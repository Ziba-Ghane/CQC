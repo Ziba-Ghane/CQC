{
 "cells": [
  {
   "cell_type": "markdown",
   "id": "0d47073d",
   "metadata": {},
   "source": [
    "# Set Variables"
   ]
  },
  {
   "cell_type": "code",
   "execution_count": 1,
   "id": "e2299f83",
   "metadata": {
    "ExecuteTime": {
     "end_time": "2022-05-07T18:39:57.713463Z",
     "start_time": "2022-05-07T18:39:57.686460Z"
    }
   },
   "outputs": [],
   "source": [
    "label1_th = 0.7\n",
    "number_of_chunks = 3\n",
    "\n",
    "# -------- outp_version\n",
    "output_version = 1052\n",
    "\n",
    "\n",
    "# -------- method: first\n",
    "which_method = \"first\"\n",
    "# which_method = \"second\"\n",
    "# which_method = \"third\"\n",
    "\n",
    "if (which_method == \"first\" or which_method == \"third\"):\n",
    "    class_percentage = 0.5 # predictable classes (a)\n",
    "\n",
    "if (which_method == \"second\" or which_method == \"third\"):\n",
    "    top_k = 20\n",
    "\n",
    "\n",
    "# -------- method_way\n",
    "method_way = \"c\" # a, b, c\n",
    "\n",
    "if (method_way == \"a\" and (not which_method == \"first\")):\n",
    "    bug_localization_accuracy = [1] # main data - th\n",
    "    knn_accuracy_threshold =    [1]\n",
    "\n",
    "if method_way == \"b\":\n",
    "    bug_localization_accuracy = [1] # main data - th\n",
    "    knn_accuracy_threshold = [\n",
    "        0.5, 0.55, \n",
    "        0.6, 0.65, \n",
    "        0.7, 0.75, \n",
    "        0.8, 0.85, \n",
    "        0.9, 0.95\n",
    "    ]\n",
    "\n",
    "if method_way == \"c\":\n",
    "    bug_localization_accuracy = [0.4]\n",
    "    knn_accuracy_threshold = [\n",
    "        0.5, 0.55, \n",
    "        0.6, 0.65, \n",
    "        0.7, 0.75, \n",
    "        0.8, 0.85, \n",
    "        0.9, 0.95\n",
    "    ]\n",
    "\n",
    "\n",
    "# -------- dataset\n",
    "software_name = \"camel\"\n",
    "# software_name = \"cloudstack\"\n",
    "# software_name = \"HBase\"\n",
    "\n",
    "\n",
    "# -------- google colab\n",
    "# on_google_colab = True\n",
    "on_google_colab = False"
   ]
  },
  {
   "cell_type": "code",
   "execution_count": 2,
   "id": "21838316",
   "metadata": {
    "ExecuteTime": {
     "end_time": "2022-05-07T18:39:58.429175Z",
     "start_time": "2022-05-07T18:39:58.407187Z"
    }
   },
   "outputs": [
    {
     "name": "stdout",
     "output_type": "stream",
     "text": [
      "bla:  [0.4]\n",
      "th:   [0.5, 0.55, 0.6, 0.65, 0.7, 0.75, 0.8, 0.85, 0.9, 0.95]\n"
     ]
    }
   ],
   "source": [
    "print(\"bla: \", bug_localization_accuracy)\n",
    "print(\"th:  \", knn_accuracy_threshold)"
   ]
  },
  {
   "cell_type": "markdown",
   "id": "26bb891f",
   "metadata": {},
   "source": [
    "# Google Colab"
   ]
  },
  {
   "cell_type": "code",
   "execution_count": 3,
   "id": "55696109",
   "metadata": {
    "ExecuteTime": {
     "end_time": "2022-05-07T18:39:59.365862Z",
     "start_time": "2022-05-07T18:39:59.351870Z"
    }
   },
   "outputs": [],
   "source": [
    "if software_name == \"HBase\":\n",
    "    dataset_file_name = \"dataset_hbase - v.03\"\n",
    "    dataset_file_name_ts = \"timeserAll - v.03\"\n",
    "\n",
    "elif software_name == \"camel\":\n",
    "    dataset_file_name = \"dataset_camel - v.01\"\n",
    "    dataset_file_name_ts = \"timeserAll_camel - v.01\"\n",
    "else:\n",
    "    dataset_file_name = \"cloudstack_bugs - v.01\"\n",
    "    dataset_file_name_ts = \"cloudstack_TimeSeries - v.01\""
   ]
  },
  {
   "cell_type": "code",
   "execution_count": 4,
   "id": "51121790",
   "metadata": {
    "ExecuteTime": {
     "end_time": "2022-05-07T18:40:00.131129Z",
     "start_time": "2022-05-07T18:40:00.096142Z"
    }
   },
   "outputs": [],
   "source": [
    "if on_google_colab:\n",
    "    \n",
    "    !pip install enlighten\n",
    "    !pip install --upgrade statsmodels \n",
    "    !pip install --upgrade matplotlib\n",
    "    \n",
    "    # load data from google drive\n",
    "    from google.colab import drive\n",
    "    drive.mount(\"/content/gdrive\", force_remount=True)\n",
    "    !ls \"/content/gdrive/My Drive/\"\n",
    "    \n",
    "    tempPre = \"gdrive/MyDrive/Colab Notebooks/paper/Indirect Method/\"\n",
    "    pre_path_data = tempPre + \"data/\" + software_name + \"/\"\n",
    "    \n",
    "    # you can choose one of these and comment out the other:\n",
    "    # pre_path_output = tempPre + \"output/\"\n",
    "    pre_path_output = tempPre + \"output/\" + dataset_file_name + \"/\" + which_method + \"/\"\n",
    "\n",
    "else:\n",
    "    tempPre =    \"E:/darsy/00/02- arshad/10- paper code/\"\n",
    "    tempData =   \"00- My Data/Datasets/Indirect Method/\"\n",
    "    tempOutput = \"01- Jupyter Notebook/InDirect Method/00. Output/\"\n",
    "    pre_path_data =   tempPre + tempData   + software_name + \"/\"\n",
    "    pre_path_output = tempPre + tempOutput + software_name + \"/\" + dataset_file_name + \"/\" + which_method + \"/\""
   ]
  },
  {
   "cell_type": "markdown",
   "id": "118f6982",
   "metadata": {},
   "source": [
    "# Libs"
   ]
  },
  {
   "cell_type": "code",
   "execution_count": 5,
   "id": "5bdc7cef",
   "metadata": {
    "ExecuteTime": {
     "end_time": "2022-05-07T18:40:05.732669Z",
     "start_time": "2022-05-07T18:40:01.291914Z"
    }
   },
   "outputs": [],
   "source": [
    "import random \n",
    "import json\n",
    "import math\n",
    "import os\n",
    "\n",
    "import enlighten\n",
    "import pandas as pd\n",
    "import numpy as np\n",
    "import matplotlib.pyplot as plt\n",
    "from operator import truediv\n",
    "import seaborn as sns\n",
    "\n",
    "from statsmodels.tsa.stattools import adfuller\n",
    "from sklearn.neighbors import KNeighborsClassifier"
   ]
  },
  {
   "cell_type": "code",
   "execution_count": 6,
   "id": "92a1afb2",
   "metadata": {
    "ExecuteTime": {
     "end_time": "2022-05-07T18:40:05.749663Z",
     "start_time": "2022-05-07T18:40:05.735673Z"
    }
   },
   "outputs": [],
   "source": [
    "import warnings\n",
    "warnings.filterwarnings(\"ignore\")"
   ]
  },
  {
   "cell_type": "markdown",
   "id": "cc8936fc",
   "metadata": {},
   "source": [
    "# Config"
   ]
  },
  {
   "cell_type": "code",
   "execution_count": 7,
   "id": "ddd594ac",
   "metadata": {
    "ExecuteTime": {
     "end_time": "2022-05-07T18:40:05.780644Z",
     "start_time": "2022-05-07T18:40:05.758659Z"
    }
   },
   "outputs": [],
   "source": [
    "mypaths = {\n",
    "    \"dataset\": pre_path_data + dataset_file_name    + \".csv\", \n",
    "    \"timeser\": pre_path_data + dataset_file_name_ts + \".csv\", \n",
    "    \"output_performance\": pre_path_output + \"performance-v{}.json\".format(output_version), \n",
    "    \"split_dataset\": pre_path_output\n",
    "}\n",
    "\n",
    "preprocessing_params = {\n",
    "    \"dataset\": {\n",
    "        # time_stamp is the time that we change the class for a bug fixing.\n",
    "        # id stands for identifier\n",
    "        \"columns_name\":   [\"bug_report_id\", \"class_id\", \"time_stamp\", \"label\"],\n",
    "        \"columns_dtype\" : {0: \"int64\", 1: \"int64\", 2: \"int64\", 3:\"int32\"}\n",
    "    },\n",
    "    \n",
    "    \"timeser\": {\n",
    "        \"columns_name\":   [\"class_id\", \"time_stamp\", \"label\"],\n",
    "        \"columns_dtype\" : {0: \"int64\", 1: \"int64\", 2:\"int32\"}\n",
    "    },\n",
    "    \n",
    "    # 0: no change | 1: increase bad smell | -1: decrease bad smell\n",
    "    \"class_labels\": [0, 1, -1], \n",
    "    \"num_classes\": 3,\n",
    "    \"bc2_labels\": [0, 1],\n",
    "    \"bc2_num_classes\": 2,\n",
    "    \"top_k\": None,\n",
    "    \"class_percentage\": None,\n",
    "    \"label1_th\": label1_th,\n",
    "}\n",
    "\n",
    "if (which_method == \"first\" or which_method == \"third\"):\n",
    "    preprocessing_params[\"class_percentage\"] = class_percentage\n",
    "\n",
    "if (which_method == \"second\" or which_method == \"third\"):\n",
    "    preprocessing_params[\"top_k\"] = top_k\n",
    "    \n",
    "    \n",
    "\n",
    "knn_model_params = {\n",
    "    \"train_size\": 0.8,\n",
    "    \"n_neighbors\": 5\n",
    "}\n",
    "\n",
    "progress_colours = [\"webmaroon\", \"salmon\", \"orangered\", \"deeppink3\", \"crimson\", \n",
    "                    \"black\", \"blue\", \"gray\", \"cyan4\", \"darkgreen\"]"
   ]
  },
  {
   "cell_type": "markdown",
   "id": "d7c0931b",
   "metadata": {},
   "source": [
    "# CalculateMetrics"
   ]
  },
  {
   "cell_type": "code",
   "execution_count": 8,
   "id": "b27abff3",
   "metadata": {
    "ExecuteTime": {
     "end_time": "2022-05-07T18:40:05.828617Z",
     "start_time": "2022-05-07T18:40:05.791640Z"
    }
   },
   "outputs": [],
   "source": [
    "class CalculateMetrics():\n",
    "    def __init__(self, cm):\n",
    "        self.cm = cm\n",
    "        self.true_positives = np.diag(cm)\n",
    "    \n",
    "    \n",
    "    # calculate precision for each class\n",
    "    def calc_precision(self):\n",
    "        columns_sum = np.sum(self.cm, axis=0)\n",
    "        prec = list(map(truediv, self.true_positives, columns_sum))\n",
    "        self.precision = prec\n",
    "        return prec\n",
    "    \n",
    "    \n",
    "    # calculate recall for each class\n",
    "    def calc_recall(self):\n",
    "        rows_sum = np.sum(self.cm, axis=1)\n",
    "        rec = list(map(truediv, self.true_positives, rows_sum))\n",
    "        self.recall = rec\n",
    "        return rec\n",
    "    \n",
    "    \n",
    "    # calculate f1_score for each class\n",
    "    def calc_f1_score(self):\n",
    "        tempPrec = np.array(self.precision)\n",
    "        tempRec = np.array(self.recall)\n",
    "        numerator = tempPrec * tempRec\n",
    "        Denominator = tempPrec + tempRec\n",
    "        f1s = 2 * (numerator / Denominator)\n",
    "        self.f1_score = f1s\n",
    "        return f1s"
   ]
  },
  {
   "cell_type": "markdown",
   "id": "0396a7aa",
   "metadata": {},
   "source": [
    "# Plot results"
   ]
  },
  {
   "cell_type": "code",
   "execution_count": 9,
   "id": "b32df07b",
   "metadata": {
    "ExecuteTime": {
     "end_time": "2022-05-07T18:40:07.011401Z",
     "start_time": "2022-05-07T18:40:07.004406Z"
    }
   },
   "outputs": [],
   "source": [
    "ls = \"solid\"\n",
    "lw = 1\n",
    "marker = \".\"\n",
    "colours = {\n",
    "    \"simple\": \"red\",\n",
    "    \"bc_2\":   \"blue\",\n",
    "}"
   ]
  },
  {
   "cell_type": "markdown",
   "id": "74b50cc1",
   "metadata": {},
   "source": [
    "## load_results"
   ]
  },
  {
   "cell_type": "code",
   "execution_count": 10,
   "id": "05a5f82c",
   "metadata": {
    "ExecuteTime": {
     "end_time": "2022-05-07T18:40:08.630393Z",
     "start_time": "2022-05-07T18:40:08.611380Z"
    }
   },
   "outputs": [
    {
     "name": "stdout",
     "output_type": "stream",
     "text": [
      "E:/darsy/00/02- arshad/10- paper code/01- Jupyter Notebook/InDirect Method/00. Output/camel/dataset_camel - v.01/first/performance-v1052.json\n"
     ]
    }
   ],
   "source": [
    "print(mypaths[\"output_performance\"])\n",
    "with open(mypaths[\"output_performance\"]) as filehandle:\n",
    "    whole_data = json.load(filehandle)"
   ]
  },
  {
   "cell_type": "code",
   "execution_count": 11,
   "id": "06c97ba9",
   "metadata": {
    "ExecuteTime": {
     "end_time": "2022-05-07T18:40:09.622382Z",
     "start_time": "2022-05-07T18:40:09.614385Z"
    }
   },
   "outputs": [],
   "source": [
    "bla = whole_data[\"bug_localization_accuracy\"]\n",
    "threshold = whole_data[\"knn_accuracy_threshold\"]\n",
    "samples_num = whole_data[\"samples_num\"]\n",
    "samples_num_pred = whole_data[\"samples_num_pred\"]\n",
    "brIDs_num = whole_data[\"brIDs_num\"]\n",
    "brIDs_num_pred = whole_data[\"brIDs_num_pred\"]\n",
    "\n",
    "cf = whole_data[\"confusion_matrix\"]\n",
    "\n",
    "nplot = len(threshold)\n",
    "\n",
    "df_data_bug_class_distribution = whole_data[\"df_data_bug_class_distribution\"]"
   ]
  },
  {
   "cell_type": "code",
   "execution_count": 12,
   "id": "67fa787b",
   "metadata": {
    "ExecuteTime": {
     "end_time": "2022-05-07T18:40:10.476279Z",
     "start_time": "2022-05-07T18:40:10.461266Z"
    }
   },
   "outputs": [],
   "source": [
    "def y_th_():\n",
    "    return {th: [] for th in threshold}"
   ]
  },
  {
   "cell_type": "code",
   "execution_count": 13,
   "id": "de454c81",
   "metadata": {
    "ExecuteTime": {
     "end_time": "2022-05-07T18:40:11.197330Z",
     "start_time": "2022-05-07T18:40:11.178341Z"
    }
   },
   "outputs": [],
   "source": [
    "df = pd.DataFrame({\n",
    "    \"bla\":              pd.Series(dtype=\"float64\"),\n",
    "    \"th\":               pd.Series(dtype=\"float64\"),\n",
    "    \"samples_num_pred\": pd.Series(dtype=\"int64\"),\n",
    "    \"samples_percent\":  pd.Series(dtype=\"int32\"),\n",
    "    \"brIDs_num_pred\":   pd.Series(dtype=\"int64\"),\n",
    "    \"brIDs_percent\":    pd.Series(dtype=\"int32\")\n",
    "})\n",
    "\n",
    "y_values = {\n",
    "    \"simple\": y_th_(),\n",
    "    \"bc_2\":   y_th_(),\n",
    "}"
   ]
  },
  {
   "cell_type": "markdown",
   "id": "21f68c9d",
   "metadata": {},
   "source": [
    "## confusion_matrices"
   ]
  },
  {
   "cell_type": "code",
   "execution_count": 24,
   "id": "8140f038",
   "metadata": {
    "ExecuteTime": {
     "end_time": "2022-05-07T18:52:08.626950Z",
     "start_time": "2022-05-07T18:52:03.475791Z"
    }
   },
   "outputs": [
    {
     "name": "stdout",
     "output_type": "stream",
     "text": [
      "--------------- bla: 0.4, th: 0.5\n",
      "precision:  [0.79, 0.33]\n",
      "recall:     [0.92, 0.14]\n",
      "f1_score:   [0.85, 0.19]\n",
      "--------------- bla: 0.4, th: 0.55\n",
      "precision:  [0.79, 0.32]\n",
      "recall:     [0.92, 0.13]\n",
      "f1_score:   [0.85, 0.19]\n",
      "--------------- bla: 0.4, th: 0.6\n",
      "precision:  [0.8, 0.29]\n",
      "recall:     [0.93, 0.1]\n",
      "f1_score:   [0.86, 0.15]\n",
      "--------------- bla: 0.4, th: 0.65\n",
      "precision:  [0.8, 0.28]\n",
      "recall:     [0.93, 0.1]\n",
      "f1_score:   [0.86, 0.15]\n",
      "--------------- bla: 0.4, th: 0.7\n",
      "precision:  [0.8, 0.19]\n",
      "recall:     [0.94, 0.06]\n",
      "f1_score:   [0.87, 0.09]\n",
      "--------------- bla: 0.4, th: 0.75\n",
      "precision:  [0.82, 0.26]\n",
      "recall:     [0.95, 0.07]\n",
      "f1_score:   [0.88, 0.12]\n",
      "--------------- bla: 0.4, th: 0.8\n",
      "precision:  [0.83, 0.2]\n",
      "recall:     [0.97, 0.04]\n",
      "f1_score:   [0.89, 0.07]\n",
      "--------------- bla: 0.4, th: 0.85\n",
      "precision:  [0.83, 0.0]\n",
      "recall:     [0.97, 0.0]\n",
      "f1_score:   [0.89, nan]\n",
      "--------------- bla: 0.4, th: 0.9\n",
      "precision:  [0.83, 0.0]\n",
      "recall:     [0.98, 0.0]\n",
      "f1_score:   [0.9, nan]\n",
      "--------------- bla: 0.4, th: 0.95\n",
      "precision:  [0.82, 0.0]\n",
      "recall:     [0.98, 0.0]\n",
      "f1_score:   [0.9, nan]\n"
     ]
    },
    {
     "data": {
      "image/png": "[encoded data removed]",
      "text/plain": [
       "<Figure size 504x1008 with 20 Axes>"
      ]
     },
     "metadata": {
      "needs_background": "light"
     },
     "output_type": "display_data"
    }
   ],
   "source": [
    "no_rows = round(len(threshold) / 2)\n",
    "fig_cf, axes_cd = plt.subplots(nrows=no_rows, ncols=2, figsize=(7, 14))\n",
    "fig_cf.suptitle(\"Seaborn Confusion Matrix with labels\")\n",
    "fig_cf.supxlabel(\"--Predicted-- Bug Report Category\")\n",
    "fig_cf.supylabel(\"--Actual-- Bug Report Category\")\n",
    "\n",
    "i = 0\n",
    "\n",
    "my_row = 0\n",
    "my_col = 0\n",
    "for b in bla:\n",
    "    for j, th in enumerate(threshold):\n",
    "        cfax = axes_cd[my_row][my_col]\n",
    "        mycbar = True\n",
    "#             if datasetName == \"train\":\n",
    "#                 mycbar = True\n",
    "#             else:\n",
    "#                 mycbar = False\n",
    "\n",
    "        cf_matrix = cf[str(b)][str(th)][\"confusion_matrix\"]\n",
    "        cf_matrix = np.array(cf_matrix)\n",
    "\n",
    "        calcmet = CalculateMetrics(cf_matrix)\n",
    "        precision = calcmet.calc_precision()\n",
    "        precision = [round(elem, 2) for elem in precision]\n",
    "\n",
    "        recall = calcmet.calc_recall()\n",
    "        recall = [round(elem, 2) for elem in recall]\n",
    "\n",
    "        f1_score = calcmet.calc_f1_score()\n",
    "        f1_score = [round(elem, 2) for elem in f1_score]\n",
    "\n",
    "        print(\"-\" * 15, \"bla: {}, th: {}\".format(b, th))\n",
    "        print(\"precision: \", precision)\n",
    "        print(\"recall:    \", recall)\n",
    "        print(\"f1_score:  \", f1_score)\n",
    "\n",
    "        snax = sns.heatmap(cf_matrix / np.sum(cf_matrix), \n",
    "                           annot=True, fmt=\".2%\", cmap=\"Blues\", ax=cfax, vmin=0, vmax=1, \n",
    "                           cbar=mycbar, annot_kws={\"size\": 12})\n",
    "\n",
    "\n",
    "        snax.set_title(\"[bla:{} _ th:{}]\\n\".format(b, th))\n",
    "\n",
    "\n",
    "        labels = list(map(str, [0, 1]))\n",
    "\n",
    "        snax.xaxis.set_ticklabels(labels)\n",
    "        snax.yaxis.set_ticklabels(labels)\n",
    "        i += 1\n",
    "        \n",
    "        if (j % 2 != 0):\n",
    "            my_row += 1\n",
    "            my_col = 0\n",
    "        else:\n",
    "            my_col = 1\n",
    "\n",
    "fig_cf.tight_layout(w_pad=6.0)"
   ]
  },
  {
   "cell_type": "code",
   "execution_count": 15,
   "id": "de22b562",
   "metadata": {
    "ExecuteTime": {
     "end_time": "2022-05-07T18:40:14.678957Z",
     "start_time": "2022-05-07T18:40:14.668965Z"
    }
   },
   "outputs": [
    {
     "name": "stdout",
     "output_type": "stream",
     "text": [
      "**bla= 0.4\n",
      "0.5 1.6\n",
      "0.55 1.5\n",
      "0.6 1.3\n",
      "0.65 1.2\n",
      "0.7 1.0\n",
      "0.75 0.9\n",
      "0.8 0.8\n",
      "0.85 0.7\n",
      "0.9 0.6\n",
      "0.95 0.6\n",
      "----------\n"
     ]
    }
   ],
   "source": [
    "for sub_bla in bla:\n",
    "    print(\"**bla=\", sub_bla)\n",
    "    for th in threshold:\n",
    "        temp = samples_num_pred[str(sub_bla)][str(th)] / samples_num\n",
    "        temp = temp * 100\n",
    "        print(th, round(temp, 1))\n",
    "    print(\"-\" * 10)"
   ]
  },
  {
   "cell_type": "code",
   "execution_count": 16,
   "id": "96335569",
   "metadata": {
    "ExecuteTime": {
     "end_time": "2022-05-07T18:40:16.604070Z",
     "start_time": "2022-05-07T18:40:16.592056Z"
    }
   },
   "outputs": [
    {
     "name": "stdout",
     "output_type": "stream",
     "text": [
      "**bla= 0.4\n",
      "0.5 11.3\n",
      "0.55 10.8\n",
      "0.6 9.1\n",
      "0.65 8.1\n",
      "0.7 6.8\n",
      "0.75 5.6\n",
      "0.8 4.8\n",
      "0.85 4.1\n",
      "0.9 3.5\n",
      "0.95 3.3\n",
      "----------\n"
     ]
    }
   ],
   "source": [
    "for sub_bla in bla:\n",
    "    print(\"**bla=\", sub_bla)\n",
    "    for th in threshold:\n",
    "        temp = brIDs_num_pred[str(sub_bla)][str(th)] / brIDs_num\n",
    "        temp = temp * 100\n",
    "        print(th, round(temp, 1))\n",
    "    print(\"-\" * 10)"
   ]
  },
  {
   "cell_type": "code",
   "execution_count": null,
   "id": "1b3839cd",
   "metadata": {},
   "outputs": [],
   "source": [
    "def set_title_(th_gname):\n",
    "    tempstr = \"-\" * 5\n",
    "    my_title = tempstr + \" KNN Accuracy Threshold: \" + str(th_gname) + \" \" + tempstr\n",
    "    return my_title"
   ]
  },
  {
   "cell_type": "markdown",
   "id": "5cb3b6f1",
   "metadata": {},
   "source": [
    "## plot_acc | linear plot"
   ]
  },
  {
   "cell_type": "code",
   "execution_count": 26,
   "id": "485adec0",
   "metadata": {
    "ExecuteTime": {
     "end_time": "2022-05-07T18:59:47.421629Z",
     "start_time": "2022-05-07T18:59:46.116618Z"
    }
   },
   "outputs": [
    {
     "ename": "ValueError",
     "evalue": "x and y must have same first dimension, but have shapes (1,) and (0,)",
     "output_type": "error",
     "traceback": [
      "\u001b[1;31m---------------------------------------------------------------------------\u001b[0m",
      "\u001b[1;31mValueError\u001b[0m                                Traceback (most recent call last)",
      "\u001b[1;32m~\\AppData\\Local\\Temp/ipykernel_4904/689238981.py\u001b[0m in \u001b[0;36m<module>\u001b[1;34m\u001b[0m\n\u001b[0;32m     15\u001b[0m                 \u001b[0mlinestyle\u001b[0m\u001b[1;33m=\u001b[0m\u001b[0mls\u001b[0m\u001b[1;33m,\u001b[0m\u001b[1;33m\u001b[0m\u001b[1;33m\u001b[0m\u001b[0m\n\u001b[0;32m     16\u001b[0m                 \u001b[0mlw\u001b[0m\u001b[1;33m=\u001b[0m\u001b[0mlw\u001b[0m\u001b[1;33m,\u001b[0m\u001b[1;33m\u001b[0m\u001b[1;33m\u001b[0m\u001b[0m\n\u001b[1;32m---> 17\u001b[1;33m                 marker=marker)\n\u001b[0m\u001b[0;32m     18\u001b[0m \u001b[1;33m\u001b[0m\u001b[0m\n\u001b[0;32m     19\u001b[0m     \u001b[0max\u001b[0m\u001b[1;33m.\u001b[0m\u001b[0mset_title\u001b[0m\u001b[1;33m(\u001b[0m\u001b[0mset_title_\u001b[0m\u001b[1;33m(\u001b[0m\u001b[0mth\u001b[0m\u001b[1;33m)\u001b[0m\u001b[1;33m)\u001b[0m\u001b[1;33m\u001b[0m\u001b[1;33m\u001b[0m\u001b[0m\n",
      "\u001b[1;32m~\\anaconda3\\envs\\paper-pytorch-cpu_jn\\lib\\site-packages\\matplotlib\\axes\\_axes.py\u001b[0m in \u001b[0;36mplot\u001b[1;34m(self, scalex, scaley, data, *args, **kwargs)\u001b[0m\n\u001b[0;32m   1630\u001b[0m         \"\"\"\n\u001b[0;32m   1631\u001b[0m         \u001b[0mkwargs\u001b[0m \u001b[1;33m=\u001b[0m \u001b[0mcbook\u001b[0m\u001b[1;33m.\u001b[0m\u001b[0mnormalize_kwargs\u001b[0m\u001b[1;33m(\u001b[0m\u001b[0mkwargs\u001b[0m\u001b[1;33m,\u001b[0m \u001b[0mmlines\u001b[0m\u001b[1;33m.\u001b[0m\u001b[0mLine2D\u001b[0m\u001b[1;33m)\u001b[0m\u001b[1;33m\u001b[0m\u001b[1;33m\u001b[0m\u001b[0m\n\u001b[1;32m-> 1632\u001b[1;33m         \u001b[0mlines\u001b[0m \u001b[1;33m=\u001b[0m \u001b[1;33m[\u001b[0m\u001b[1;33m*\u001b[0m\u001b[0mself\u001b[0m\u001b[1;33m.\u001b[0m\u001b[0m_get_lines\u001b[0m\u001b[1;33m(\u001b[0m\u001b[1;33m*\u001b[0m\u001b[0margs\u001b[0m\u001b[1;33m,\u001b[0m \u001b[0mdata\u001b[0m\u001b[1;33m=\u001b[0m\u001b[0mdata\u001b[0m\u001b[1;33m,\u001b[0m \u001b[1;33m**\u001b[0m\u001b[0mkwargs\u001b[0m\u001b[1;33m)\u001b[0m\u001b[1;33m]\u001b[0m\u001b[1;33m\u001b[0m\u001b[1;33m\u001b[0m\u001b[0m\n\u001b[0m\u001b[0;32m   1633\u001b[0m         \u001b[1;32mfor\u001b[0m \u001b[0mline\u001b[0m \u001b[1;32min\u001b[0m \u001b[0mlines\u001b[0m\u001b[1;33m:\u001b[0m\u001b[1;33m\u001b[0m\u001b[1;33m\u001b[0m\u001b[0m\n\u001b[0;32m   1634\u001b[0m             \u001b[0mself\u001b[0m\u001b[1;33m.\u001b[0m\u001b[0madd_line\u001b[0m\u001b[1;33m(\u001b[0m\u001b[0mline\u001b[0m\u001b[1;33m)\u001b[0m\u001b[1;33m\u001b[0m\u001b[1;33m\u001b[0m\u001b[0m\n",
      "\u001b[1;32m~\\anaconda3\\envs\\paper-pytorch-cpu_jn\\lib\\site-packages\\matplotlib\\axes\\_base.py\u001b[0m in \u001b[0;36m__call__\u001b[1;34m(self, data, *args, **kwargs)\u001b[0m\n\u001b[0;32m    310\u001b[0m                 \u001b[0mthis\u001b[0m \u001b[1;33m+=\u001b[0m \u001b[0margs\u001b[0m\u001b[1;33m[\u001b[0m\u001b[1;36m0\u001b[0m\u001b[1;33m]\u001b[0m\u001b[1;33m,\u001b[0m\u001b[1;33m\u001b[0m\u001b[1;33m\u001b[0m\u001b[0m\n\u001b[0;32m    311\u001b[0m                 \u001b[0margs\u001b[0m \u001b[1;33m=\u001b[0m \u001b[0margs\u001b[0m\u001b[1;33m[\u001b[0m\u001b[1;36m1\u001b[0m\u001b[1;33m:\u001b[0m\u001b[1;33m]\u001b[0m\u001b[1;33m\u001b[0m\u001b[1;33m\u001b[0m\u001b[0m\n\u001b[1;32m--> 312\u001b[1;33m             \u001b[1;32myield\u001b[0m \u001b[1;32mfrom\u001b[0m \u001b[0mself\u001b[0m\u001b[1;33m.\u001b[0m\u001b[0m_plot_args\u001b[0m\u001b[1;33m(\u001b[0m\u001b[0mthis\u001b[0m\u001b[1;33m,\u001b[0m \u001b[0mkwargs\u001b[0m\u001b[1;33m)\u001b[0m\u001b[1;33m\u001b[0m\u001b[1;33m\u001b[0m\u001b[0m\n\u001b[0m\u001b[0;32m    313\u001b[0m \u001b[1;33m\u001b[0m\u001b[0m\n\u001b[0;32m    314\u001b[0m     \u001b[1;32mdef\u001b[0m \u001b[0mget_next_color\u001b[0m\u001b[1;33m(\u001b[0m\u001b[0mself\u001b[0m\u001b[1;33m)\u001b[0m\u001b[1;33m:\u001b[0m\u001b[1;33m\u001b[0m\u001b[1;33m\u001b[0m\u001b[0m\n",
      "\u001b[1;32m~\\anaconda3\\envs\\paper-pytorch-cpu_jn\\lib\\site-packages\\matplotlib\\axes\\_base.py\u001b[0m in \u001b[0;36m_plot_args\u001b[1;34m(self, tup, kwargs, return_kwargs)\u001b[0m\n\u001b[0;32m    496\u001b[0m \u001b[1;33m\u001b[0m\u001b[0m\n\u001b[0;32m    497\u001b[0m         \u001b[1;32mif\u001b[0m \u001b[0mx\u001b[0m\u001b[1;33m.\u001b[0m\u001b[0mshape\u001b[0m\u001b[1;33m[\u001b[0m\u001b[1;36m0\u001b[0m\u001b[1;33m]\u001b[0m \u001b[1;33m!=\u001b[0m \u001b[0my\u001b[0m\u001b[1;33m.\u001b[0m\u001b[0mshape\u001b[0m\u001b[1;33m[\u001b[0m\u001b[1;36m0\u001b[0m\u001b[1;33m]\u001b[0m\u001b[1;33m:\u001b[0m\u001b[1;33m\u001b[0m\u001b[1;33m\u001b[0m\u001b[0m\n\u001b[1;32m--> 498\u001b[1;33m             raise ValueError(f\"x and y must have same first dimension, but \"\n\u001b[0m\u001b[0;32m    499\u001b[0m                              f\"have shapes {x.shape} and {y.shape}\")\n\u001b[0;32m    500\u001b[0m         \u001b[1;32mif\u001b[0m \u001b[0mx\u001b[0m\u001b[1;33m.\u001b[0m\u001b[0mndim\u001b[0m \u001b[1;33m>\u001b[0m \u001b[1;36m2\u001b[0m \u001b[1;32mor\u001b[0m \u001b[0my\u001b[0m\u001b[1;33m.\u001b[0m\u001b[0mndim\u001b[0m \u001b[1;33m>\u001b[0m \u001b[1;36m2\u001b[0m\u001b[1;33m:\u001b[0m\u001b[1;33m\u001b[0m\u001b[1;33m\u001b[0m\u001b[0m\n",
      "\u001b[1;31mValueError\u001b[0m: x and y must have same first dimension, but have shapes (1,) and (0,)"
     ]
    },
    {
     "data": {
      "image/png": "[encoded data removed]",
      "text/plain": [
       "<Figure size 648x2592 with 10 Axes>"
      ]
     },
     "metadata": {
      "needs_background": "light"
     },
     "output_type": "display_data"
    }
   ],
   "source": [
    "my_fig_height = 18\n",
    "temp1 = my_fig_height / 5\n",
    "temp2 = temp1 * nplot\n",
    "# figsize=(a, b) : a_width, b_height\n",
    "fig, axes = plt.subplots(nrows=nplot, ncols=1, figsize=(9, temp2))\n",
    "if nplot == 1:\n",
    "    axes = [axes]\n",
    "\n",
    "for ax, th in zip(axes, threshold):\n",
    "    for key, value in y_values.items():\n",
    "        ax.plot(bla, \n",
    "                value[th], \n",
    "                label=key, \n",
    "                color=colours[key], \n",
    "                linestyle=ls, \n",
    "                lw=lw, \n",
    "                marker=marker)\n",
    "\n",
    "    ax.set_title(set_title_(th))\n",
    "    ax.set_xlabel(\"Bug Localization Accuracy\")\n",
    "    ax.set_ylabel(\"Total accuracy\")\n",
    "\n",
    "    ax.set_xlim([0.45, 1.05])\n",
    "    ax.get_xaxis().set_ticks(bla)\n",
    "\n",
    "    ax.set_ylim([0, 110])\n",
    "    ax.get_yaxis().set_ticks(list(range(0, 101, 10)))\n",
    "\n",
    "    ax.legend()\n",
    "    ax.grid(True)\n",
    "# --- end for\n",
    "\n",
    "fig.tight_layout(pad=3.0)"
   ]
  },
  {
   "cell_type": "code",
   "execution_count": 27,
   "id": "1a033379",
   "metadata": {
    "ExecuteTime": {
     "end_time": "2022-05-07T19:00:20.515079Z",
     "start_time": "2022-05-07T19:00:20.485096Z"
    }
   },
   "outputs": [],
   "source": [
    "def plot_acc(self):\n",
    "    \n",
    "    \n",
    "    \n",
    "    # --------------------------- plot_percent_num | bar plot\n",
    "    \n",
    "    def plot_percent_num(self):\n",
    "        my_fig_height = 18\n",
    "        temp1 = my_fig_height / 5\n",
    "        temp2 = temp1 * self.nplot\n",
    "        fig, axes = plt.subplots(nrows=self.nplot, ncols=1, figsize=(9, temp2))\n",
    "        if self.nplot == 1:\n",
    "            axes = [axes]\n",
    "        self.counter = 0\n",
    "        self.df.groupby(\"th\").apply(lambda g: self.plot_flow_percent_(g, axes[self.counter]))\n",
    "        fig.tight_layout(pad=3.0)\n",
    "    \n",
    "    \n",
    "    def plot_flow_percent_(self, g, ax):\n",
    "        x_axis = np.arange(len(self.bla))\n",
    "        width = 0.4\n",
    "        ax.bar(x_axis - 0.2, g[\"samples_percent\"], width=width, label=\"Samples\", color=\"#1F77B4\") # blue\n",
    "        ax.bar(x_axis + 0.2, g[\"brIDs_percent\"], width=width, label=\"Bug Report IDs\", color=\"#FF7F0E\") # orange\n",
    "        \n",
    "        ax.set_title(self.set_title_(g.name))\n",
    "        ax.set_xlabel(\"Bug Localization Accuracy\")\n",
    "        ax.set_ylabel(\"Percentages (%)\")\n",
    "        \n",
    "        ax.get_xaxis().set_ticks(x_axis, self.bla)\n",
    "        \n",
    "        ax.set_ylim([0, 110])\n",
    "        ax.get_yaxis().set_ticks(list(range(0, 101, 10)))\n",
    "        \n",
    "        ax.legend()\n",
    "        ax.grid(axis=\"y\")\n",
    "        \n",
    "        self.counter += 1\n",
    "    \n",
    "    \n",
    "    # --------------------------- plot_class_distribution\n",
    "    \n",
    "    def plot_class_distribution(self):\n",
    "        for i, bla in enumerate(self.bla):\n",
    "            for j, th in enumerate(self.threshold):\n",
    "                key_bla = str(bla)\n",
    "                key_th = str(th)\n",
    "                #print(j)\n",
    "                #print(self.df_data_bug_class_distribution[str(bla)][str(th)][\"bug_label_num\"])\n",
    "                tempBP = ClassDistribution(None)\n",
    "                tempBP.bug_label_num = self.df_data_bug_class_distribution[key_bla][key_th][\"bug_class_num\"]\n",
    "                tempBP.bug_label_per = self.df_data_bug_class_distribution[key_bla][key_th][\"bug_class_per\"]\n",
    "                tempBP.bug_label_ratio = self.df_data_bug_class_distribution[key_bla][key_th][\"bug_class_ratio\"]\n",
    "                tempBP.plot_percent_num(bla, th, self.brIDs_num_pred[key_bla][key_th])"
   ]
  },
  {
   "cell_type": "code",
   "execution_count": null,
   "id": "288dd386",
   "metadata": {},
   "outputs": [],
   "source": [
    "class PlotResults:\n",
    "    \n",
    "    def __init__(self):\n",
    "        self.ls = \"solid\"\n",
    "        self.lw = 1\n",
    "        self.marker = \".\"\n",
    "        self.colours = {\n",
    "            \"simple\": \"red\",\n",
    "            \"bc_2\":   \"blue\",\n",
    "        }\n",
    "    \n",
    "    \n",
    "    def load_results(self, result_path):\n",
    "        with open(result_path) as filehandle:\n",
    "            whole_data = json.load(filehandle)\n",
    "        self.bla = whole_data[\"bug_localization_accuracy\"]\n",
    "        self.threshold = whole_data[\"knn_accuracy_threshold\"]\n",
    "        self.samples_num = whole_data[\"samples_num\"]\n",
    "        self.samples_num_pred = whole_data[\"samples_num_pred\"]\n",
    "        self.brIDs_num = whole_data[\"brIDs_num\"]\n",
    "        self.brIDs_num_pred = whole_data[\"brIDs_num_pred\"]\n",
    "        \n",
    "        self.cf = whole_data[\"confusion_matrix\"]\n",
    "        \n",
    "        self.nplot = len(self.threshold)\n",
    "        \n",
    "        self.df_data_bug_class_distribution = whole_data[\"df_data_bug_class_distribution\"]\n",
    "        \n",
    "        self.df = pd.DataFrame({\n",
    "            \"bla\":              pd.Series(dtype=\"float64\"),\n",
    "            \"th\":               pd.Series(dtype=\"float64\"),\n",
    "            \"samples_num_pred\": pd.Series(dtype=\"int64\"),\n",
    "            \"samples_percent\":  pd.Series(dtype=\"int32\"),\n",
    "            \"brIDs_num_pred\":   pd.Series(dtype=\"int64\"),\n",
    "            \"brIDs_percent\":    pd.Series(dtype=\"int32\")\n",
    "        })\n",
    "        \n",
    "        self.y_values = {\n",
    "            \"simple\": self.y_th_(),\n",
    "            \"bc_2\":   self.y_th_(),\n",
    "        }\n",
    "        \n",
    "        for b in self.bla:\n",
    "            for th in self.threshold:\n",
    "                # --- df_samples\n",
    "                samples_num_pred = whole_data[\"samples_num_pred\"][str(b)][str(th)]\n",
    "                samples_percent = round((samples_num_pred / self.samples_num) * 100)\n",
    "                \n",
    "                brIDs_num_pred = whole_data[\"brIDs_num_pred\"][str(b)][str(th)]\n",
    "                brIDs_percent = round((brIDs_num_pred / self.brIDs_num) * 100)\n",
    "                \n",
    "                self.df = self.df.append(\n",
    "                    {\n",
    "                        \"bla\": b, \n",
    "                        \"th\": th, \n",
    "                        \"samples_num_pred\": int(samples_num_pred), \n",
    "                        \"samples_percent\": int(samples_percent),\n",
    "                        \"brIDs_num_pred\": int(brIDs_num_pred), \n",
    "                        \"brIDs_percent\": int(brIDs_percent)\n",
    "                    }, \n",
    "                    ignore_index=True\n",
    "                )\n",
    "                \n",
    "                # --- y_values\n",
    "                for key, value in self.y_values.items():\n",
    "                    value[th].append(whole_data[\"accuracies\"][str(b)][str(th)][key])\n",
    "    \n",
    "    \n",
    "    def plot_confusion_matrices(self):\n",
    "        no_rows = round(len(self.threshold) / 2)\n",
    "        fig_cf, axes_cd = plt.subplots(nrows=no_rows, ncols=2, figsize=(7, 14))\n",
    "        fig_cf.suptitle(\"Seaborn Confusion Matrix with labels\")\n",
    "        fig_cf.supxlabel(\"--Predicted-- Bug Report Category\")\n",
    "        fig_cf.supylabel(\"--Actual-- Bug Report Category\")\n",
    "        \n",
    "        \n",
    "        i = 0\n",
    "        \n",
    "        my_row = 0\n",
    "        my_col = 0\n",
    "        for b in self.bla:\n",
    "            for j, th in enumerate(self.threshold):\n",
    "                cfax = axes_cd[my_row][my_col]\n",
    "                mycbar = True\n",
    "    #             if datasetName == \"train\":\n",
    "    #                 mycbar = True\n",
    "    #             else:\n",
    "    #                 mycbar = False\n",
    "\n",
    "                cf_matrix = self.cf[str(b)][str(th)][\"confusion_matrix\"]\n",
    "                cf_matrix = np.array(cf_matrix)\n",
    "\n",
    "                calcmet = CalculateMetrics(cf_matrix)\n",
    "                precision = calcmet.calc_precision()\n",
    "                precision = [round(elem, 2) for elem in precision]\n",
    "\n",
    "                recall = calcmet.calc_recall()\n",
    "                recall = [round(elem, 2) for elem in recall]\n",
    "\n",
    "                f1_score = calcmet.calc_f1_score()\n",
    "                f1_score = [round(elem, 2) for elem in f1_score]\n",
    "\n",
    "                print(\"-\" * 15, \"bla: {}, th: {}\".format(b, th))\n",
    "                print(\"precision: \", precision)\n",
    "                print(\"recall:    \", recall)\n",
    "                print(\"f1_score:  \", f1_score)\n",
    "\n",
    "                snax = sns.heatmap(cf_matrix / np.sum(cf_matrix), \n",
    "                                   annot=True, fmt=\".2%\", cmap=\"Blues\", ax=cfax, vmin=0, vmax=1, \n",
    "                                   cbar=mycbar, annot_kws={\"size\": 12})\n",
    "\n",
    "                \n",
    "                snax.set_title(\"[bla:{} _ th:{}]\\n\".format(b, th))\n",
    "                \n",
    "\n",
    "                labels = list(map(str, [0, 1]))\n",
    "\n",
    "                snax.xaxis.set_ticklabels(labels)\n",
    "                snax.yaxis.set_ticklabels(labels)\n",
    "                i += 1\n",
    "                \n",
    "                if (j % 2 != 0):\n",
    "                    my_row += 1\n",
    "                    my_col = 0\n",
    "                else:\n",
    "                    my_col = 1\n",
    "\n",
    "        fig_cf.tight_layout(w_pad=6.0)\n",
    "    \n",
    "    \n",
    "    \n",
    "    def percal_samples(self):\n",
    "        for bla in self.bla:\n",
    "            print(\"**bla=\", bla)\n",
    "            for th in self.threshold:\n",
    "                temp = self.samples_num_pred[str(bla)][str(th)] / self.samples_num\n",
    "                temp = temp * 100\n",
    "                print(th, round(temp, 1))\n",
    "            print(\"-\" * 10)\n",
    "    \n",
    "    \n",
    "    def percal_brids(self):\n",
    "        for bla in self.bla:\n",
    "            print(\"**bla=\", bla)\n",
    "            for th in self.threshold:\n",
    "                temp = self.brIDs_num_pred[str(bla)][str(th)] / self.brIDs_num\n",
    "                temp = temp * 100\n",
    "                print(th, round(temp, 1))\n",
    "            print(\"-\" * 10)\n",
    "    \n",
    "    \n",
    "    # --------------------------- helpers\n",
    "    \n",
    "    def y_th_(self):\n",
    "        return {th: [] for th in self.threshold}\n",
    "    \n",
    "    \n",
    "    def set_title_(self, th_gname):\n",
    "        tempstr = \"-\" * 5\n",
    "        my_title = tempstr + \" KNN Accuracy Threshold: \" + str(th_gname) + \" \" + tempstr\n",
    "        return my_title\n",
    "    \n",
    "    \n",
    "    # --------------------------- plot_acc | linear plot\n",
    "    \n",
    "    def plot_acc(self):\n",
    "        my_fig_height = 18\n",
    "        temp1 = my_fig_height / 5\n",
    "        temp2 = temp1 * self.nplot\n",
    "        # figsize=(a, b) : a_width, b_height\n",
    "        fig, axes = plt.subplots(nrows=self.nplot, ncols=1, figsize=(9, temp2))\n",
    "        if self.nplot == 1:\n",
    "            axes = [axes]\n",
    "            \n",
    "        for ax, th in zip(axes, self.threshold):\n",
    "            for key, value in self.y_values.items():\n",
    "                ax.plot(self.bla, \n",
    "                        value[th], \n",
    "                        label=key, \n",
    "                        color=self.colours[key], \n",
    "                        linestyle=self.ls, \n",
    "                        lw=self.lw, \n",
    "                        marker=self.marker)\n",
    "            \n",
    "            ax.set_title(self.set_title_(th))\n",
    "            ax.set_xlabel(\"Bug Localization Accuracy\")\n",
    "            ax.set_ylabel(\"Total accuracy\")\n",
    "            \n",
    "            ax.set_xlim([0.3, 1.05])\n",
    "            ax.get_xaxis().set_ticks(self.bla)\n",
    "            \n",
    "            ax.set_ylim([0, 110])\n",
    "            ax.get_yaxis().set_ticks(list(range(0, 101, 10)))\n",
    "            \n",
    "            ax.legend()\n",
    "            ax.grid(True)\n",
    "        # --- end for\n",
    "        \n",
    "        fig.tight_layout(pad=3.0)\n",
    "    \n",
    "    \n",
    "    # --------------------------- plot_percent_num | bar plot\n",
    "    \n",
    "    def plot_percent_num(self):\n",
    "        my_fig_height = 18\n",
    "        temp1 = my_fig_height / 5\n",
    "        temp2 = temp1 * self.nplot\n",
    "        fig, axes = plt.subplots(nrows=self.nplot, ncols=1, figsize=(9, temp2))\n",
    "        if self.nplot == 1:\n",
    "            axes = [axes]\n",
    "        self.counter = 0\n",
    "        self.df.groupby(\"th\").apply(lambda g: self.plot_flow_percent_(g, axes[self.counter]))\n",
    "        fig.tight_layout(pad=3.0)\n",
    "    \n",
    "    \n",
    "    def plot_flow_percent_(self, g, ax):\n",
    "        x_axis = np.arange(len(self.bla))\n",
    "        width = 0.4\n",
    "        ax.bar(x_axis - 0.2, g[\"samples_percent\"], width=width, label=\"Samples\", color=\"#1F77B4\") # blue\n",
    "        ax.bar(x_axis + 0.2, g[\"brIDs_percent\"], width=width, label=\"Bug Report IDs\", color=\"#FF7F0E\") # orange\n",
    "        \n",
    "        ax.set_title(self.set_title_(g.name))\n",
    "        ax.set_xlabel(\"Bug Localization Accuracy\")\n",
    "        ax.set_ylabel(\"Percentages (%)\")\n",
    "        \n",
    "        ax.get_xaxis().set_ticks(x_axis, self.bla)\n",
    "        \n",
    "        ax.set_ylim([0, 110])\n",
    "        ax.get_yaxis().set_ticks(list(range(0, 101, 10)))\n",
    "        \n",
    "        ax.legend()\n",
    "        ax.grid(axis=\"y\")\n",
    "        \n",
    "        self.counter += 1\n",
    "    \n",
    "    \n",
    "    # --------------------------- plot_class_distribution\n",
    "    \n",
    "    def plot_class_distribution(self):\n",
    "        for i, bla in enumerate(self.bla):\n",
    "            for j, th in enumerate(self.threshold):\n",
    "                key_bla = str(bla)\n",
    "                key_th = str(th)\n",
    "                #print(j)\n",
    "                #print(self.df_data_bug_class_distribution[str(bla)][str(th)][\"bug_label_num\"])\n",
    "                tempBP = ClassDistribution(None)\n",
    "                tempBP.bug_label_num = self.df_data_bug_class_distribution[key_bla][key_th][\"bug_class_num\"]\n",
    "                tempBP.bug_label_per = self.df_data_bug_class_distribution[key_bla][key_th][\"bug_class_per\"]\n",
    "                tempBP.bug_label_ratio = self.df_data_bug_class_distribution[key_bla][key_th][\"bug_class_ratio\"]\n",
    "                tempBP.plot_percent_num(bla, th, self.brIDs_num_pred[key_bla][key_th])"
   ]
  }
 ],
 "metadata": {
  "kernelspec": {
   "display_name": "paper-pytorch-cpu_jn",
   "language": "python",
   "name": "paper-pytorch-cpu_jn"
  },
  "language_info": {
   "codemirror_mode": {
    "name": "ipython",
    "version": 3
   },
   "file_extension": ".py",
   "mimetype": "text/x-python",
   "name": "python",
   "nbconvert_exporter": "python",
   "pygments_lexer": "ipython3",
   "version": "3.7.11"
  },
  "toc": {
   "base_numbering": 1,
   "nav_menu": {},
   "number_sections": false,
   "sideBar": true,
   "skip_h1_title": false,
   "title_cell": "Table of Contents",
   "title_sidebar": "Contents",
   "toc_cell": false,
   "toc_position": {
    "height": "calc(100% - 180px)",
    "left": "10px",
    "top": "150px",
    "width": "226.188px"
   },
   "toc_section_display": true,
   "toc_window_display": true
  }
 },
 "nbformat": 4,
 "nbformat_minor": 5
}
