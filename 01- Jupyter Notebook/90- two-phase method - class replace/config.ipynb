{
 "cells": [
  {
   "cell_type": "markdown",
   "metadata": {
    "id": "Th6OTYfW6GSH"
   },
   "source": [
    "# some variables"
   ]
  },
  {
   "cell_type": "markdown",
   "metadata": {
    "id": "ngNH1g_dfDyf"
   },
   "source": [
    "### label1_th"
   ]
  },
  {
   "cell_type": "code",
   "execution_count": 1,
   "metadata": {
    "executionInfo": {
     "elapsed": 25,
     "status": "ok",
     "timestamp": 1669017708012,
     "user": {
      "displayName": "Ziba Ghane",
      "userId": "08687858434532704051"
     },
     "user_tz": -210
    },
    "id": "TGF-yhpHzeUY"
   },
   "outputs": [],
   "source": [
    "# label1_th = None\n",
    "label1_th = 0.5"
   ]
  },
  {
   "cell_type": "markdown",
   "metadata": {
    "id": "y88V6pIgfG94"
   },
   "source": [
    "### software_name"
   ]
  },
  {
   "cell_type": "code",
   "execution_count": 2,
   "metadata": {
    "executionInfo": {
     "elapsed": 25,
     "status": "ok",
     "timestamp": 1669017708014,
     "user": {
      "displayName": "Ziba Ghane",
      "userId": "08687858434532704051"
     },
     "user_tz": -210
    },
    "id": "ONYe4hUqhwOJ"
   },
   "outputs": [],
   "source": [
    "# -------- dataset\n",
    "# software_name = \"Camel\"\n",
    "# software_name = \"CloudStack\"\n",
    "# software_name = \"Geode\"\n",
    "software_name = \"Hbase\""
   ]
  },
  {
   "cell_type": "markdown",
   "metadata": {
    "id": "L3ia4K1K-nli"
   },
   "source": [
    "## knn_accuracy_threshold"
   ]
  },
  {
   "cell_type": "code",
   "execution_count": 3,
   "metadata": {
    "executionInfo": {
     "elapsed": 24,
     "status": "ok",
     "timestamp": 1669017708014,
     "user": {
      "displayName": "Ziba Ghane",
      "userId": "08687858434532704051"
     },
     "user_tz": -210
    },
    "id": "thmWmVU6-msi"
   },
   "outputs": [],
   "source": [
    "knn_accuracy_threshold = [\n",
    "    0.01,\n",
    "    0.5, 0.55, \n",
    "    0.6, 0.65, \n",
    "    0.7, 0.75, \n",
    "    0.8, 0.85, \n",
    "    0.9, 0.95\n",
    "]"
   ]
  },
  {
   "cell_type": "markdown",
   "metadata": {
    "id": "lzSu0z0T-piA"
   },
   "source": [
    "## progress_colours"
   ]
  },
  {
   "cell_type": "code",
   "execution_count": 4,
   "metadata": {
    "executionInfo": {
     "elapsed": 24,
     "status": "ok",
     "timestamp": 1669017708015,
     "user": {
      "displayName": "Ziba Ghane",
      "userId": "08687858434532704051"
     },
     "user_tz": -210
    },
    "id": "fsXdiQYK-r7h"
   },
   "outputs": [],
   "source": [
    "progress_colours = [\"webmaroon\", \"salmon\", \"orangered\", \"deeppink3\", \"crimson\", \n",
    "                    \"black\", \"blue\", \"gray\", \"cyan4\", \"darkgreen\"]"
   ]
  },
  {
   "cell_type": "markdown",
   "metadata": {
    "id": "-TIV7HT28mLy"
   },
   "source": [
    "# Config"
   ]
  },
  {
   "cell_type": "markdown",
   "metadata": {
    "id": "W4ou_7H-E5uy"
   },
   "source": [
    "## dataset_file_name_all"
   ]
  },
  {
   "cell_type": "code",
   "execution_count": null,
   "metadata": {
    "id": "zxmp9QfIE4rS"
   },
   "outputs": [],
   "source": [
    "dataset_file_name_bug_all = {\n",
    "    \"Camel\":      \"Camel_Bugs - v.01\",\n",
    "    \"CloudStack\": \"CloudStack_Bugs - v.01\",\n",
    "    \"Geode\":      \"Geode_Bug - v.01\",\n",
    "    \"Hbase\":      \"Hbase_Bugs - v.03\"\n",
    "}\n",
    "\n",
    "dataset_file_name_ts_all = {\n",
    "    \"Camel\":      \"Camel_TimeSeries - v.01\",\n",
    "    \"CloudStack\": \"CloudStack_TimeSeries - v.01\",\n",
    "    \"Geode\":      \"Geode_TimeSeries - v.01\",\n",
    "    \"Hbase\":      \"Hbase_TimeSeries - v.03\"\n",
    "}\n",
    "\n",
    "# software_name_all = [\"Camel\", \"CloudStack\", \"Geode\", \"Hbase\"]"
   ]
  },
  {
   "cell_type": "code",
   "execution_count": null,
   "metadata": {
    "id": "jHtjqQm3Ikb1"
   },
   "outputs": [],
   "source": [
    "dataset_file_name = dataset_file_name_bug_all[software_name]\n",
    "dataset_file_name_ts = dataset_file_name_ts_all[software_name]"
   ]
  },
  {
   "cell_type": "markdown",
   "metadata": {
    "id": "Gj2033Mcj8Tc"
   },
   "source": [
    "## mypaths"
   ]
  },
  {
   "cell_type": "code",
   "execution_count": 1,
   "metadata": {
    "ExecuteTime": {
     "end_time": "2022-11-22T22:37:51.274090Z",
     "start_time": "2022-11-22T22:37:51.247102Z"
    }
   },
   "outputs": [],
   "source": [
    "project_folder = ''.join([\n",
    "    \"E:/darsy/Uni/\",\n",
    "    \"کارشناسی ارشد/\",\n",
    "    \"02- درس‌ها/\",\n",
    "    \"پایان نامه/\",\n",
    "    \"05.04 - paper codes colab/\",\n",
    "])"
   ]
  },
  {
   "cell_type": "code",
   "execution_count": 2,
   "metadata": {
    "ExecuteTime": {
     "end_time": "2022-11-22T22:37:52.947359Z",
     "start_time": "2022-11-22T22:37:52.794691Z"
    },
    "executionInfo": {
     "elapsed": 24,
     "status": "ok",
     "timestamp": 1669017708016,
     "user": {
      "displayName": "Ziba Ghane",
      "userId": "08687858434532704051"
     },
     "user_tz": -210
    },
    "id": "bqdk7lW1hikx"
   },
   "outputs": [
    {
     "ename": "NameError",
     "evalue": "name 'software_name' is not defined",
     "output_type": "error",
     "traceback": [
      "\u001b[1;31m---------------------------------------------------------------------------\u001b[0m",
      "\u001b[1;31mNameError\u001b[0m                                 Traceback (most recent call last)",
      "\u001b[1;32m~\\AppData\\Local\\Temp/ipykernel_6040/3366954806.py\u001b[0m in \u001b[0;36m<module>\u001b[1;34m\u001b[0m\n\u001b[0;32m      3\u001b[0m         \"dataset_bugs\": project_folder.join([\n\u001b[0;32m      4\u001b[0m                 \u001b[1;34m\"00- My Data/two-phase method/\"\u001b[0m\u001b[1;33m,\u001b[0m\u001b[1;33m\u001b[0m\u001b[1;33m\u001b[0m\u001b[0m\n\u001b[1;32m----> 5\u001b[1;33m                 \u001b[0msoftware_name\u001b[0m\u001b[1;33m,\u001b[0m\u001b[1;33m\u001b[0m\u001b[1;33m\u001b[0m\u001b[0m\n\u001b[0m\u001b[0;32m      6\u001b[0m                 \u001b[1;34m\"/\"\u001b[0m\u001b[1;33m,\u001b[0m\u001b[1;33m\u001b[0m\u001b[1;33m\u001b[0m\u001b[0m\n\u001b[0;32m      7\u001b[0m                 \u001b[0mdataset_file_name\u001b[0m\u001b[1;33m,\u001b[0m\u001b[1;33m\u001b[0m\u001b[1;33m\u001b[0m\u001b[0m\n",
      "\u001b[1;31mNameError\u001b[0m: name 'software_name' is not defined"
     ]
    }
   ],
   "source": [
    "mypaths = {\n",
    "    \"data\": {\n",
    "        \"dataset_bugs\": project_folder.join([\n",
    "                \"00- My Data/two-phase method/\",\n",
    "                software_name,\n",
    "                \"/\",\n",
    "                dataset_file_name,\n",
    "                \".csv\"\n",
    "            ]),\n",
    "        \"dataset_timeseries\": project_folder.join([\n",
    "                \"00- My Data/two-phase method/\",\n",
    "                software_name,\n",
    "                \"/\",\n",
    "                dataset_file_name_ts,\n",
    "                \".csv\"\n",
    "            ]),\n",
    "    },\n",
    "    \"output\": {\n",
    "        \"unique_class_predictions\": project_folder.join([\n",
    "                \"01- Jupyter Notebook/90- two-phase method - class replace/About Main Data _ ts/00. Output/\",\n",
    "                \"class-predictabality-v01 _ \",\n",
    "                dataset_file_name_ts,\n",
    "                \".csv\"\n",
    "            ])\n",
    "    }\n",
    "}"
   ]
  },
  {
   "cell_type": "code",
   "execution_count": null,
   "metadata": {
    "id": "zOZa3PgbIPCY"
   },
   "outputs": [],
   "source": []
  },
  {
   "cell_type": "markdown",
   "metadata": {
    "id": "dmF0IiBrj_2t"
   },
   "source": [
    "## preprocessing_params"
   ]
  },
  {
   "cell_type": "code",
   "execution_count": 7,
   "metadata": {
    "executionInfo": {
     "elapsed": 24,
     "status": "ok",
     "timestamp": 1669017708017,
     "user": {
      "displayName": "Ziba Ghane",
      "userId": "08687858434532704051"
     },
     "user_tz": -210
    },
    "id": "mwLHsR8_dzKZ"
   },
   "outputs": [],
   "source": [
    "preprocessing_params = {\n",
    "    \"data\": {\n",
    "        \"dataset_bugs\": {\n",
    "            # time_stamp is the time that we change the class for a bug fixing.\n",
    "            # id stands for identifier\n",
    "            \"columns_name\":   [\"bug_report_id\", \"class_id\", \"time_stamp\", \"label\"],\n",
    "            \"columns_dtype\" : {0: \"int64\", 1: \"int64\", 2: \"int64\", 3:\"int32\"}\n",
    "        },\n",
    "        \"dataset_timeseries\": {\n",
    "            \"columns_name\":   [\"class_id\", \"time_stamp\", \"label\"],\n",
    "            \"columns_dtype\" : {0: \"int64\", 1: \"int64\", 2:\"int32\"}\n",
    "        },\n",
    "\n",
    "    },\n",
    "    \"output\": {\n",
    "        \"unique_class_predictions\": {\n",
    "            \"columns_name\":   [\"class_id\"],\n",
    "            \"columns_dtype\" : {0: \"int64\"}\n",
    "        },\n",
    "    },\n",
    "    \n",
    "    # 0: no change / 1: increase bad smell / -1: decrease bad smell\n",
    "    \"class_labels\": [0, 1, -1], \n",
    "    \"num_classes\": 3,\n",
    "    \"label1_th\": label1_th,\n",
    "}"
   ]
  },
  {
   "cell_type": "markdown",
   "metadata": {
    "id": "xNsYEGTwB_QP"
   },
   "source": [
    "## knn_model_params"
   ]
  },
  {
   "cell_type": "code",
   "execution_count": 8,
   "metadata": {
    "executionInfo": {
     "elapsed": 24,
     "status": "ok",
     "timestamp": 1669017708017,
     "user": {
      "displayName": "Ziba Ghane",
      "userId": "08687858434532704051"
     },
     "user_tz": -210
    },
    "id": "sn-r2Hc8B-gI"
   },
   "outputs": [],
   "source": [
    "knn_model_params = {\n",
    "    \"train_size\": 0.8,\n",
    "    \"n_neighbors\": 5\n",
    "}"
   ]
  },
  {
   "cell_type": "code",
   "execution_count": 9,
   "metadata": {
    "colab": {
     "base_uri": "https://localhost:8080/"
    },
    "executionInfo": {
     "elapsed": 24,
     "status": "ok",
     "timestamp": 1669017708018,
     "user": {
      "displayName": "Ziba Ghane",
      "userId": "08687858434532704051"
     },
     "user_tz": -210
    },
    "id": "yvz5Abivie2_",
    "outputId": "3b065884-b7e7-40f7-835f-3f6f1bf619e1"
   },
   "outputs": [
    {
     "data": {
      "text/plain": [
       "{'data': {'dataset_bugs': 'gdrive/MyDrive/Colab Notebooks/paper/00- My Data/two-phase method/Geode/Geode_Bug - v.01.csv',\n",
       "  'dataset_timeseries': 'gdrive/MyDrive/Colab Notebooks/paper/00- My Data/two-phase method/Geode/Geode_TimeSeries - v.01.csv'},\n",
       " 'output': {'class_predictabality': 'gdrive/MyDrive/Colab Notebooks/paper/01- Jupyter Notebook/90- two-phase method - class replace/00. Output/Geode/Geode_TimeSeries - v.01/class-predictabality-v01.csv'}}"
      ]
     },
     "execution_count": 9,
     "metadata": {},
     "output_type": "execute_result"
    }
   ],
   "source": [
    "mypaths"
   ]
  },
  {
   "cell_type": "markdown",
   "metadata": {
    "id": "EC8FH7SU6hTX"
   },
   "source": [
    "## my_bug_classes & columns_dtype_config"
   ]
  },
  {
   "cell_type": "code",
   "execution_count": 10,
   "metadata": {
    "executionInfo": {
     "elapsed": 17,
     "status": "ok",
     "timestamp": 1669017708018,
     "user": {
      "displayName": "Ziba Ghane",
      "userId": "08687858434532704051"
     },
     "user_tz": -210
    },
    "id": "WFEYPj-p5T8w"
   },
   "outputs": [],
   "source": [
    "if not label1_th:\n",
    "    my_bug_classes_config = [\"bug_class_2\", \"bug_class_3\", \"bug_class_4\"]\n",
    "    columns_dtype_config =  [\"int32\"      , \"int32\"      , \"string\"]\n",
    "else:\n",
    "    my_bug_classes_config = [\"bug_class_2\"]\n",
    "    columns_dtype_config =  [\"int32\"]"
   ]
  },
  {
   "cell_type": "code",
   "execution_count": 10,
   "metadata": {
    "executionInfo": {
     "elapsed": 17,
     "status": "ok",
     "timestamp": 1669017708019,
     "user": {
      "displayName": "Ziba Ghane",
      "userId": "08687858434532704051"
     },
     "user_tz": -210
    },
    "id": "2V5Cgbzn6xwq"
   },
   "outputs": [],
   "source": []
  }
 ],
 "metadata": {
  "colab": {
   "authorship_tag": "ABX9TyNR8eG71Dnb9bENlNRKaWHF",
   "provenance": [],
   "toc_visible": true
  },
  "kernelspec": {
   "display_name": "Python 3 (ipykernel)",
   "language": "python",
   "name": "python3"
  },
  "language_info": {
   "codemirror_mode": {
    "name": "ipython",
    "version": 3
   },
   "file_extension": ".py",
   "mimetype": "text/x-python",
   "name": "python",
   "nbconvert_exporter": "python",
   "pygments_lexer": "ipython3",
   "version": "3.7.11"
  },
  "toc": {
   "base_numbering": 1,
   "nav_menu": {},
   "number_sections": false,
   "sideBar": true,
   "skip_h1_title": false,
   "title_cell": "Table of Contents",
   "title_sidebar": "Contents",
   "toc_cell": false,
   "toc_position": {},
   "toc_section_display": true,
   "toc_window_display": true
  }
 },
 "nbformat": 4,
 "nbformat_minor": 1
}
