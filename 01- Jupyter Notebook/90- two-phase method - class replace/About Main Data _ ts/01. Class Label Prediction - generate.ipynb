{
 "cells": [
  {
   "cell_type": "markdown",
   "id": "2PUXR9NvUQol",
   "metadata": {
    "id": "2PUXR9NvUQol"
   },
   "source": [
    "two-phased method"
   ]
  },
  {
   "cell_type": "markdown",
   "id": "tvNvdAGdUocV",
   "metadata": {
    "id": "tvNvdAGdUocV"
   },
   "source": [
    "# Libs"
   ]
  },
  {
   "cell_type": "markdown",
   "id": "2M1rGD88E_p5",
   "metadata": {
    "id": "2M1rGD88E_p5"
   },
   "source": [
    "### config"
   ]
  },
  {
   "cell_type": "code",
   "execution_count": 3,
   "id": "stk9XwwHCSD2",
   "metadata": {
    "executionInfo": {
     "elapsed": 693,
     "status": "ok",
     "timestamp": 1669031610530,
     "user": {
      "displayName": "Ziba Ghane",
      "userId": "08687858434532704051"
     },
     "user_tz": -210
    },
    "id": "stk9XwwHCSD2"
   },
   "outputs": [],
   "source": [
    "# config\n",
    "%run '/content/gdrive/My Drive/Colab Notebooks/paper/01- Jupyter Notebook/90- two-phase method - class replace/config.ipynb'"
   ]
  },
  {
   "cell_type": "markdown",
   "id": "v8ol6iadFBrO",
   "metadata": {
    "id": "v8ol6iadFBrO"
   },
   "source": [
    "### functions"
   ]
  },
  {
   "cell_type": "code",
   "execution_count": 4,
   "id": "_hEtJnkzCSpL",
   "metadata": {
    "executionInfo": {
     "elapsed": 7,
     "status": "ok",
     "timestamp": 1669031610531,
     "user": {
      "displayName": "Ziba Ghane",
      "userId": "08687858434532704051"
     },
     "user_tz": -210
    },
    "id": "_hEtJnkzCSpL"
   },
   "outputs": [],
   "source": [
    "# functions\n",
    "%run '/content/gdrive/My Drive/Colab Notebooks/paper/01- Jupyter Notebook/90- two-phase method - class replace/About Main Data _ ts/functions_ts.ipynb'"
   ]
  },
  {
   "cell_type": "markdown",
   "id": "ISDfn2SeFEBH",
   "metadata": {
    "id": "ISDfn2SeFEBH"
   },
   "source": [
    "### my_classes"
   ]
  },
  {
   "cell_type": "code",
   "execution_count": 5,
   "id": "B__PvPsqCURw",
   "metadata": {
    "executionInfo": {
     "elapsed": 7,
     "status": "ok",
     "timestamp": 1669031610532,
     "user": {
      "displayName": "Ziba Ghane",
      "userId": "08687858434532704051"
     },
     "user_tz": -210
    },
    "id": "B__PvPsqCURw"
   },
   "outputs": [],
   "source": [
    "# classes\n",
    "%run '/content/gdrive/My Drive/Colab Notebooks/paper/01- Jupyter Notebook/90- two-phase method - class replace/About Main Data _ ts/classes_ts.ipynb'"
   ]
  },
  {
   "cell_type": "code",
   "execution_count": 6,
   "id": "gD2-BS-eUmgP",
   "metadata": {
    "executionInfo": {
     "elapsed": 1531,
     "status": "ok",
     "timestamp": 1669031612056,
     "user": {
      "displayName": "Ziba Ghane",
      "userId": "08687858434532704051"
     },
     "user_tz": -210
    },
    "id": "gD2-BS-eUmgP"
   },
   "outputs": [],
   "source": [
    "import math\n",
    "\n",
    "import enlighten\n",
    "import pandas as pd\n",
    "import numpy as np\n",
    "import matplotlib.pyplot as plt\n",
    "\n",
    "from statsmodels.tsa.stattools import adfuller\n",
    "from sklearn.neighbors import KNeighborsClassifier"
   ]
  },
  {
   "cell_type": "code",
   "execution_count": 7,
   "id": "1Urb6Ljkkp7Z",
   "metadata": {
    "executionInfo": {
     "elapsed": 57,
     "status": "ok",
     "timestamp": 1669031612059,
     "user": {
      "displayName": "Ziba Ghane",
      "userId": "08687858434532704051"
     },
     "user_tz": -210
    },
    "id": "1Urb6Ljkkp7Z"
   },
   "outputs": [],
   "source": [
    "import warnings\n",
    "warnings.filterwarnings(\"ignore\")"
   ]
  },
  {
   "cell_type": "markdown",
   "id": "A19Nx2wBVCfb",
   "metadata": {
    "id": "A19Nx2wBVCfb"
   },
   "source": [
    "# read_dataset_ts"
   ]
  },
  {
   "cell_type": "code",
   "execution_count": 8,
   "id": "N2zhe1s6VC7j",
   "metadata": {
    "colab": {
     "base_uri": "https://localhost:8080/"
    },
    "executionInfo": {
     "elapsed": 58,
     "status": "ok",
     "timestamp": 1669031612060,
     "user": {
      "displayName": "Ziba Ghane",
      "userId": "08687858434532704051"
     },
     "user_tz": -210
    },
    "id": "N2zhe1s6VC7j",
    "outputId": "ebad3302-9cb9-4bc2-911e-f99c31be16ca"
   },
   "outputs": [
    {
     "name": "stdout",
     "output_type": "stream",
     "text": [
      "Software Name         : Hbase\n",
      "Number of rows        : 166,096\n",
      "Number of classes     : 5,940\n"
     ]
    }
   ],
   "source": [
    "df_main = read_dataset_ts()\n",
    "print_dataset_info()"
   ]
  },
  {
   "cell_type": "code",
   "execution_count": 9,
   "id": "xgkj9pO9_goU",
   "metadata": {
    "colab": {
     "base_uri": "https://localhost:8080/",
     "height": 424
    },
    "executionInfo": {
     "elapsed": 59,
     "status": "ok",
     "timestamp": 1669031612063,
     "user": {
      "displayName": "Ziba Ghane",
      "userId": "08687858434532704051"
     },
     "user_tz": -210
    },
    "id": "xgkj9pO9_goU",
    "outputId": "27198494-8aed-442b-a1a3-abf6b0d7d9fe"
   },
   "outputs": [
    {
     "data": {
      "text/html": [
       "\n",
       "  <div id=\"df-a32b61b7-d741-4a92-b452-096825ee43cc\">\n",
       "    <div class=\"colab-df-container\">\n",
       "      <div>\n",
       "<style scoped>\n",
       "    .dataframe tbody tr th:only-of-type {\n",
       "        vertical-align: middle;\n",
       "    }\n",
       "\n",
       "    .dataframe tbody tr th {\n",
       "        vertical-align: top;\n",
       "    }\n",
       "\n",
       "    .dataframe thead th {\n",
       "        text-align: right;\n",
       "    }\n",
       "</style>\n",
       "<table border=\"1\" class=\"dataframe\">\n",
       "  <thead>\n",
       "    <tr style=\"text-align: right;\">\n",
       "      <th></th>\n",
       "      <th>class_id</th>\n",
       "      <th>time_stamp</th>\n",
       "      <th>label</th>\n",
       "    </tr>\n",
       "  </thead>\n",
       "  <tbody>\n",
       "    <tr>\n",
       "      <th>0</th>\n",
       "      <td>120028</td>\n",
       "      <td>1462480544</td>\n",
       "      <td>0</td>\n",
       "    </tr>\n",
       "    <tr>\n",
       "      <th>1</th>\n",
       "      <td>120028</td>\n",
       "      <td>1552570943</td>\n",
       "      <td>0</td>\n",
       "    </tr>\n",
       "    <tr>\n",
       "      <th>2</th>\n",
       "      <td>120028</td>\n",
       "      <td>1583149803</td>\n",
       "      <td>0</td>\n",
       "    </tr>\n",
       "    <tr>\n",
       "      <th>3</th>\n",
       "      <td>120029</td>\n",
       "      <td>1504439382</td>\n",
       "      <td>0</td>\n",
       "    </tr>\n",
       "    <tr>\n",
       "      <th>4</th>\n",
       "      <td>120029</td>\n",
       "      <td>1506484519</td>\n",
       "      <td>1</td>\n",
       "    </tr>\n",
       "    <tr>\n",
       "      <th>...</th>\n",
       "      <td>...</td>\n",
       "      <td>...</td>\n",
       "      <td>...</td>\n",
       "    </tr>\n",
       "    <tr>\n",
       "      <th>166091</th>\n",
       "      <td>166933</td>\n",
       "      <td>1180977250</td>\n",
       "      <td>0</td>\n",
       "    </tr>\n",
       "    <tr>\n",
       "      <th>166092</th>\n",
       "      <td>166934</td>\n",
       "      <td>1177449188</td>\n",
       "      <td>0</td>\n",
       "    </tr>\n",
       "    <tr>\n",
       "      <th>166093</th>\n",
       "      <td>166934</td>\n",
       "      <td>1178567933</td>\n",
       "      <td>0</td>\n",
       "    </tr>\n",
       "    <tr>\n",
       "      <th>166094</th>\n",
       "      <td>166936</td>\n",
       "      <td>1177018481</td>\n",
       "      <td>0</td>\n",
       "    </tr>\n",
       "    <tr>\n",
       "      <th>166095</th>\n",
       "      <td>166936</td>\n",
       "      <td>1177449188</td>\n",
       "      <td>0</td>\n",
       "    </tr>\n",
       "  </tbody>\n",
       "</table>\n",
       "<p>166096 rows × 3 columns</p>\n",
       "</div>\n",
       "      <button class=\"colab-df-convert\" onclick=\"convertToInteractive('df-a32b61b7-d741-4a92-b452-096825ee43cc')\"\n",
       "              title=\"Convert this dataframe to an interactive table.\"\n",
       "              style=\"display:none;\">\n",
       "        \n",
       "  <svg xmlns=\"http://www.w3.org/2000/svg\" height=\"24px\"viewBox=\"0 0 24 24\"\n",
       "       width=\"24px\">\n",
       "    <path d=\"M0 0h24v24H0V0z\" fill=\"none\"/>\n",
       "    <path d=\"M18.56 5.44l.94 2.06.94-2.06 2.06-.94-2.06-.94-.94-2.06-.94 2.06-2.06.94zm-11 1L8.5 8.5l.94-2.06 2.06-.94-2.06-.94L8.5 2.5l-.94 2.06-2.06.94zm10 10l.94 2.06.94-2.06 2.06-.94-2.06-.94-.94-2.06-.94 2.06-2.06.94z\"/><path d=\"M17.41 7.96l-1.37-1.37c-.4-.4-.92-.59-1.43-.59-.52 0-1.04.2-1.43.59L10.3 9.45l-7.72 7.72c-.78.78-.78 2.05 0 2.83L4 21.41c.39.39.9.59 1.41.59.51 0 1.02-.2 1.41-.59l7.78-7.78 2.81-2.81c.8-.78.8-2.07 0-2.86zM5.41 20L4 18.59l7.72-7.72 1.47 1.35L5.41 20z\"/>\n",
       "  </svg>\n",
       "      </button>\n",
       "      \n",
       "  <style>\n",
       "    .colab-df-container {\n",
       "      display:flex;\n",
       "      flex-wrap:wrap;\n",
       "      gap: 12px;\n",
       "    }\n",
       "\n",
       "    .colab-df-convert {\n",
       "      background-color: #E8F0FE;\n",
       "      border: none;\n",
       "      border-radius: 50%;\n",
       "      cursor: pointer;\n",
       "      display: none;\n",
       "      fill: #1967D2;\n",
       "      height: 32px;\n",
       "      padding: 0 0 0 0;\n",
       "      width: 32px;\n",
       "    }\n",
       "\n",
       "    .colab-df-convert:hover {\n",
       "      background-color: #E2EBFA;\n",
       "      box-shadow: 0px 1px 2px rgba(60, 64, 67, 0.3), 0px 1px 3px 1px rgba(60, 64, 67, 0.15);\n",
       "      fill: #174EA6;\n",
       "    }\n",
       "\n",
       "    [theme=dark] .colab-df-convert {\n",
       "      background-color: #3B4455;\n",
       "      fill: #D2E3FC;\n",
       "    }\n",
       "\n",
       "    [theme=dark] .colab-df-convert:hover {\n",
       "      background-color: #434B5C;\n",
       "      box-shadow: 0px 1px 3px 1px rgba(0, 0, 0, 0.15);\n",
       "      filter: drop-shadow(0px 1px 2px rgba(0, 0, 0, 0.3));\n",
       "      fill: #FFFFFF;\n",
       "    }\n",
       "  </style>\n",
       "\n",
       "      <script>\n",
       "        const buttonEl =\n",
       "          document.querySelector('#df-a32b61b7-d741-4a92-b452-096825ee43cc button.colab-df-convert');\n",
       "        buttonEl.style.display =\n",
       "          google.colab.kernel.accessAllowed ? 'block' : 'none';\n",
       "\n",
       "        async function convertToInteractive(key) {\n",
       "          const element = document.querySelector('#df-a32b61b7-d741-4a92-b452-096825ee43cc');\n",
       "          const dataTable =\n",
       "            await google.colab.kernel.invokeFunction('convertToInteractive',\n",
       "                                                     [key], {});\n",
       "          if (!dataTable) return;\n",
       "\n",
       "          const docLinkHtml = 'Like what you see? Visit the ' +\n",
       "            '<a target=\"_blank\" href=https://colab.research.google.com/notebooks/data_table.ipynb>data table notebook</a>'\n",
       "            + ' to learn more about interactive tables.';\n",
       "          element.innerHTML = '';\n",
       "          dataTable['output_type'] = 'display_data';\n",
       "          await google.colab.output.renderOutput(dataTable, element);\n",
       "          const docLink = document.createElement('div');\n",
       "          docLink.innerHTML = docLinkHtml;\n",
       "          element.appendChild(docLink);\n",
       "        }\n",
       "      </script>\n",
       "    </div>\n",
       "  </div>\n",
       "  "
      ],
      "text/plain": [
       "        class_id  time_stamp  label\n",
       "0         120028  1462480544      0\n",
       "1         120028  1552570943      0\n",
       "2         120028  1583149803      0\n",
       "3         120029  1504439382      0\n",
       "4         120029  1506484519      1\n",
       "...          ...         ...    ...\n",
       "166091    166933  1180977250      0\n",
       "166092    166934  1177449188      0\n",
       "166093    166934  1178567933      0\n",
       "166094    166936  1177018481      0\n",
       "166095    166936  1177449188      0\n",
       "\n",
       "[166096 rows x 3 columns]"
      ]
     },
     "execution_count": 9,
     "metadata": {},
     "output_type": "execute_result"
    }
   ],
   "source": [
    "df_main"
   ]
  },
  {
   "cell_type": "markdown",
   "id": "iuSPCn5ux3a0",
   "metadata": {
    "id": "iuSPCn5ux3a0"
   },
   "source": [
    "# create_empty_unique_class_prediction"
   ]
  },
  {
   "cell_type": "code",
   "execution_count": 10,
   "id": "z-qCpV0_wjLH",
   "metadata": {
    "executionInfo": {
     "elapsed": 63,
     "status": "ok",
     "timestamp": 1669031612068,
     "user": {
      "displayName": "Ziba Ghane",
      "userId": "08687858434532704051"
     },
     "user_tz": -210
    },
    "id": "z-qCpV0_wjLH"
   },
   "outputs": [],
   "source": [
    "def create_empty_unique_class_predictions():\n",
    "    # columns name & columns dtype\n",
    "    columns_name = preprocessing_params[\"output\"][\"unique_class_predictions\"][\"columns_name\"]\n",
    "    columns_dtype = preprocessing_params[\"output\"][\"unique_class_predictions\"][\"columns_dtype\"]\n",
    "\n",
    "    temp_column_number = len(columns_dtype)\n",
    "    for th in knn_accuracy_threshold:\n",
    "        temp_column_name = prediction_column_name(th)\n",
    "        columns_name.append(temp_column_name)\n",
    "        columns_dtype[temp_column_number] = pd.Int32Dtype()\n",
    "        temp_column_number += 1\n",
    "\n",
    "    # create \n",
    "    temp_df_structure = {}\n",
    "    for cn, cd in zip(columns_name, columns_dtype.values()):\n",
    "        temp_df_structure[cn] = pd.Series(dtype=cd)\n",
    "    empty_unique_class_predictions = pd.DataFrame(temp_df_structure)\n",
    "    print(empty_unique_class_predictions.dtypes)\n",
    "    print(\"-\" * 50)\n",
    "\n",
    "    return empty_unique_class_predictions"
   ]
  },
  {
   "cell_type": "code",
   "execution_count": 11,
   "id": "NleToqOmsYSl",
   "metadata": {
    "colab": {
     "base_uri": "https://localhost:8080/",
     "height": 582
    },
    "executionInfo": {
     "elapsed": 71,
     "status": "ok",
     "timestamp": 1669031612078,
     "user": {
      "displayName": "Ziba Ghane",
      "userId": "08687858434532704051"
     },
     "user_tz": -210
    },
    "id": "NleToqOmsYSl",
    "outputId": "9fe065a8-aed4-4c0a-9ad7-a5ab0b636361"
   },
   "outputs": [
    {
     "name": "stdout",
     "output_type": "stream",
     "text": [
      "class_id            int64\n",
      "predictions_0.01    Int32\n",
      "predictions_0.5     Int32\n",
      "predictions_0.55    Int32\n",
      "predictions_0.6     Int32\n",
      "predictions_0.65    Int32\n",
      "predictions_0.7     Int32\n",
      "predictions_0.75    Int32\n",
      "predictions_0.8     Int32\n",
      "predictions_0.85    Int32\n",
      "predictions_0.9     Int32\n",
      "predictions_0.95    Int32\n",
      "dtype: object\n",
      "--------------------------------------------------\n",
      "class_id            int64\n",
      "predictions_0.01    Int32\n",
      "predictions_0.5     Int32\n",
      "predictions_0.55    Int32\n",
      "predictions_0.6     Int32\n",
      "predictions_0.65    Int32\n",
      "predictions_0.7     Int32\n",
      "predictions_0.75    Int32\n",
      "predictions_0.8     Int32\n",
      "predictions_0.85    Int32\n",
      "predictions_0.9     Int32\n",
      "predictions_0.95    Int32\n",
      "dtype: object\n"
     ]
    },
    {
     "data": {
      "text/html": [
       "\n",
       "  <div id=\"df-ad3a93d7-4e16-4a42-8548-09e0d356c880\">\n",
       "    <div class=\"colab-df-container\">\n",
       "      <div>\n",
       "<style scoped>\n",
       "    .dataframe tbody tr th:only-of-type {\n",
       "        vertical-align: middle;\n",
       "    }\n",
       "\n",
       "    .dataframe tbody tr th {\n",
       "        vertical-align: top;\n",
       "    }\n",
       "\n",
       "    .dataframe thead th {\n",
       "        text-align: right;\n",
       "    }\n",
       "</style>\n",
       "<table border=\"1\" class=\"dataframe\">\n",
       "  <thead>\n",
       "    <tr style=\"text-align: right;\">\n",
       "      <th></th>\n",
       "      <th>class_id</th>\n",
       "      <th>predictions_0.01</th>\n",
       "      <th>predictions_0.5</th>\n",
       "      <th>predictions_0.55</th>\n",
       "      <th>predictions_0.6</th>\n",
       "      <th>predictions_0.65</th>\n",
       "      <th>predictions_0.7</th>\n",
       "      <th>predictions_0.75</th>\n",
       "      <th>predictions_0.8</th>\n",
       "      <th>predictions_0.85</th>\n",
       "      <th>predictions_0.9</th>\n",
       "      <th>predictions_0.95</th>\n",
       "    </tr>\n",
       "  </thead>\n",
       "  <tbody>\n",
       "  </tbody>\n",
       "</table>\n",
       "</div>\n",
       "      <button class=\"colab-df-convert\" onclick=\"convertToInteractive('df-ad3a93d7-4e16-4a42-8548-09e0d356c880')\"\n",
       "              title=\"Convert this dataframe to an interactive table.\"\n",
       "              style=\"display:none;\">\n",
       "        \n",
       "  <svg xmlns=\"http://www.w3.org/2000/svg\" height=\"24px\"viewBox=\"0 0 24 24\"\n",
       "       width=\"24px\">\n",
       "    <path d=\"M0 0h24v24H0V0z\" fill=\"none\"/>\n",
       "    <path d=\"M18.56 5.44l.94 2.06.94-2.06 2.06-.94-2.06-.94-.94-2.06-.94 2.06-2.06.94zm-11 1L8.5 8.5l.94-2.06 2.06-.94-2.06-.94L8.5 2.5l-.94 2.06-2.06.94zm10 10l.94 2.06.94-2.06 2.06-.94-2.06-.94-.94-2.06-.94 2.06-2.06.94z\"/><path d=\"M17.41 7.96l-1.37-1.37c-.4-.4-.92-.59-1.43-.59-.52 0-1.04.2-1.43.59L10.3 9.45l-7.72 7.72c-.78.78-.78 2.05 0 2.83L4 21.41c.39.39.9.59 1.41.59.51 0 1.02-.2 1.41-.59l7.78-7.78 2.81-2.81c.8-.78.8-2.07 0-2.86zM5.41 20L4 18.59l7.72-7.72 1.47 1.35L5.41 20z\"/>\n",
       "  </svg>\n",
       "      </button>\n",
       "      \n",
       "  <style>\n",
       "    .colab-df-container {\n",
       "      display:flex;\n",
       "      flex-wrap:wrap;\n",
       "      gap: 12px;\n",
       "    }\n",
       "\n",
       "    .colab-df-convert {\n",
       "      background-color: #E8F0FE;\n",
       "      border: none;\n",
       "      border-radius: 50%;\n",
       "      cursor: pointer;\n",
       "      display: none;\n",
       "      fill: #1967D2;\n",
       "      height: 32px;\n",
       "      padding: 0 0 0 0;\n",
       "      width: 32px;\n",
       "    }\n",
       "\n",
       "    .colab-df-convert:hover {\n",
       "      background-color: #E2EBFA;\n",
       "      box-shadow: 0px 1px 2px rgba(60, 64, 67, 0.3), 0px 1px 3px 1px rgba(60, 64, 67, 0.15);\n",
       "      fill: #174EA6;\n",
       "    }\n",
       "\n",
       "    [theme=dark] .colab-df-convert {\n",
       "      background-color: #3B4455;\n",
       "      fill: #D2E3FC;\n",
       "    }\n",
       "\n",
       "    [theme=dark] .colab-df-convert:hover {\n",
       "      background-color: #434B5C;\n",
       "      box-shadow: 0px 1px 3px 1px rgba(0, 0, 0, 0.15);\n",
       "      filter: drop-shadow(0px 1px 2px rgba(0, 0, 0, 0.3));\n",
       "      fill: #FFFFFF;\n",
       "    }\n",
       "  </style>\n",
       "\n",
       "      <script>\n",
       "        const buttonEl =\n",
       "          document.querySelector('#df-ad3a93d7-4e16-4a42-8548-09e0d356c880 button.colab-df-convert');\n",
       "        buttonEl.style.display =\n",
       "          google.colab.kernel.accessAllowed ? 'block' : 'none';\n",
       "\n",
       "        async function convertToInteractive(key) {\n",
       "          const element = document.querySelector('#df-ad3a93d7-4e16-4a42-8548-09e0d356c880');\n",
       "          const dataTable =\n",
       "            await google.colab.kernel.invokeFunction('convertToInteractive',\n",
       "                                                     [key], {});\n",
       "          if (!dataTable) return;\n",
       "\n",
       "          const docLinkHtml = 'Like what you see? Visit the ' +\n",
       "            '<a target=\"_blank\" href=https://colab.research.google.com/notebooks/data_table.ipynb>data table notebook</a>'\n",
       "            + ' to learn more about interactive tables.';\n",
       "          element.innerHTML = '';\n",
       "          dataTable['output_type'] = 'display_data';\n",
       "          await google.colab.output.renderOutput(dataTable, element);\n",
       "          const docLink = document.createElement('div');\n",
       "          docLink.innerHTML = docLinkHtml;\n",
       "          element.appendChild(docLink);\n",
       "        }\n",
       "      </script>\n",
       "    </div>\n",
       "  </div>\n",
       "  "
      ],
      "text/plain": [
       "Empty DataFrame\n",
       "Columns: [class_id, predictions_0.01, predictions_0.5, predictions_0.55, predictions_0.6, predictions_0.65, predictions_0.7, predictions_0.75, predictions_0.8, predictions_0.85, predictions_0.9, predictions_0.95]\n",
       "Index: []"
      ]
     },
     "execution_count": 11,
     "metadata": {},
     "output_type": "execute_result"
    }
   ],
   "source": [
    "empty_unique_class_predictions = create_empty_unique_class_predictions()\n",
    "print(empty_unique_class_predictions.dtypes)\n",
    "empty_unique_class_predictions"
   ]
  },
  {
   "cell_type": "markdown",
   "id": "VJSsZgml2QC2",
   "metadata": {
    "id": "VJSsZgml2QC2"
   },
   "source": [
    "### Fill class_id"
   ]
  },
  {
   "cell_type": "code",
   "execution_count": 12,
   "id": "YkYN1O2y0oSX",
   "metadata": {
    "colab": {
     "base_uri": "https://localhost:8080/",
     "height": 713
    },
    "executionInfo": {
     "elapsed": 582,
     "status": "ok",
     "timestamp": 1669031612595,
     "user": {
      "displayName": "Ziba Ghane",
      "userId": "08687858434532704051"
     },
     "user_tz": -210
    },
    "id": "YkYN1O2y0oSX",
    "outputId": "ebc2257f-4e66-4fcd-b2f5-74ec9dd5e626"
   },
   "outputs": [
    {
     "name": "stdout",
     "output_type": "stream",
     "text": [
      "class_id            int64\n",
      "predictions_0.01    Int32\n",
      "predictions_0.5     Int32\n",
      "predictions_0.55    Int32\n",
      "predictions_0.6     Int32\n",
      "predictions_0.65    Int32\n",
      "predictions_0.7     Int32\n",
      "predictions_0.75    Int32\n",
      "predictions_0.8     Int32\n",
      "predictions_0.85    Int32\n",
      "predictions_0.9     Int32\n",
      "predictions_0.95    Int32\n",
      "dtype: object\n"
     ]
    },
    {
     "data": {
      "text/html": [
       "\n",
       "  <div id=\"df-3c49fdca-864f-43a6-a8c8-facea1603eb5\">\n",
       "    <div class=\"colab-df-container\">\n",
       "      <div>\n",
       "<style scoped>\n",
       "    .dataframe tbody tr th:only-of-type {\n",
       "        vertical-align: middle;\n",
       "    }\n",
       "\n",
       "    .dataframe tbody tr th {\n",
       "        vertical-align: top;\n",
       "    }\n",
       "\n",
       "    .dataframe thead th {\n",
       "        text-align: right;\n",
       "    }\n",
       "</style>\n",
       "<table border=\"1\" class=\"dataframe\">\n",
       "  <thead>\n",
       "    <tr style=\"text-align: right;\">\n",
       "      <th></th>\n",
       "      <th>class_id</th>\n",
       "      <th>predictions_0.01</th>\n",
       "      <th>predictions_0.5</th>\n",
       "      <th>predictions_0.55</th>\n",
       "      <th>predictions_0.6</th>\n",
       "      <th>predictions_0.65</th>\n",
       "      <th>predictions_0.7</th>\n",
       "      <th>predictions_0.75</th>\n",
       "      <th>predictions_0.8</th>\n",
       "      <th>predictions_0.85</th>\n",
       "      <th>predictions_0.9</th>\n",
       "      <th>predictions_0.95</th>\n",
       "    </tr>\n",
       "  </thead>\n",
       "  <tbody>\n",
       "    <tr>\n",
       "      <th>0</th>\n",
       "      <td>120028</td>\n",
       "      <td>&lt;NA&gt;</td>\n",
       "      <td>&lt;NA&gt;</td>\n",
       "      <td>&lt;NA&gt;</td>\n",
       "      <td>&lt;NA&gt;</td>\n",
       "      <td>&lt;NA&gt;</td>\n",
       "      <td>&lt;NA&gt;</td>\n",
       "      <td>&lt;NA&gt;</td>\n",
       "      <td>&lt;NA&gt;</td>\n",
       "      <td>&lt;NA&gt;</td>\n",
       "      <td>&lt;NA&gt;</td>\n",
       "      <td>&lt;NA&gt;</td>\n",
       "    </tr>\n",
       "    <tr>\n",
       "      <th>1</th>\n",
       "      <td>120029</td>\n",
       "      <td>&lt;NA&gt;</td>\n",
       "      <td>&lt;NA&gt;</td>\n",
       "      <td>&lt;NA&gt;</td>\n",
       "      <td>&lt;NA&gt;</td>\n",
       "      <td>&lt;NA&gt;</td>\n",
       "      <td>&lt;NA&gt;</td>\n",
       "      <td>&lt;NA&gt;</td>\n",
       "      <td>&lt;NA&gt;</td>\n",
       "      <td>&lt;NA&gt;</td>\n",
       "      <td>&lt;NA&gt;</td>\n",
       "      <td>&lt;NA&gt;</td>\n",
       "    </tr>\n",
       "    <tr>\n",
       "      <th>2</th>\n",
       "      <td>120030</td>\n",
       "      <td>&lt;NA&gt;</td>\n",
       "      <td>&lt;NA&gt;</td>\n",
       "      <td>&lt;NA&gt;</td>\n",
       "      <td>&lt;NA&gt;</td>\n",
       "      <td>&lt;NA&gt;</td>\n",
       "      <td>&lt;NA&gt;</td>\n",
       "      <td>&lt;NA&gt;</td>\n",
       "      <td>&lt;NA&gt;</td>\n",
       "      <td>&lt;NA&gt;</td>\n",
       "      <td>&lt;NA&gt;</td>\n",
       "      <td>&lt;NA&gt;</td>\n",
       "    </tr>\n",
       "    <tr>\n",
       "      <th>3</th>\n",
       "      <td>120031</td>\n",
       "      <td>&lt;NA&gt;</td>\n",
       "      <td>&lt;NA&gt;</td>\n",
       "      <td>&lt;NA&gt;</td>\n",
       "      <td>&lt;NA&gt;</td>\n",
       "      <td>&lt;NA&gt;</td>\n",
       "      <td>&lt;NA&gt;</td>\n",
       "      <td>&lt;NA&gt;</td>\n",
       "      <td>&lt;NA&gt;</td>\n",
       "      <td>&lt;NA&gt;</td>\n",
       "      <td>&lt;NA&gt;</td>\n",
       "      <td>&lt;NA&gt;</td>\n",
       "    </tr>\n",
       "    <tr>\n",
       "      <th>4</th>\n",
       "      <td>120032</td>\n",
       "      <td>&lt;NA&gt;</td>\n",
       "      <td>&lt;NA&gt;</td>\n",
       "      <td>&lt;NA&gt;</td>\n",
       "      <td>&lt;NA&gt;</td>\n",
       "      <td>&lt;NA&gt;</td>\n",
       "      <td>&lt;NA&gt;</td>\n",
       "      <td>&lt;NA&gt;</td>\n",
       "      <td>&lt;NA&gt;</td>\n",
       "      <td>&lt;NA&gt;</td>\n",
       "      <td>&lt;NA&gt;</td>\n",
       "      <td>&lt;NA&gt;</td>\n",
       "    </tr>\n",
       "    <tr>\n",
       "      <th>...</th>\n",
       "      <td>...</td>\n",
       "      <td>...</td>\n",
       "      <td>...</td>\n",
       "      <td>...</td>\n",
       "      <td>...</td>\n",
       "      <td>...</td>\n",
       "      <td>...</td>\n",
       "      <td>...</td>\n",
       "      <td>...</td>\n",
       "      <td>...</td>\n",
       "      <td>...</td>\n",
       "      <td>...</td>\n",
       "    </tr>\n",
       "    <tr>\n",
       "      <th>5935</th>\n",
       "      <td>166926</td>\n",
       "      <td>&lt;NA&gt;</td>\n",
       "      <td>&lt;NA&gt;</td>\n",
       "      <td>&lt;NA&gt;</td>\n",
       "      <td>&lt;NA&gt;</td>\n",
       "      <td>&lt;NA&gt;</td>\n",
       "      <td>&lt;NA&gt;</td>\n",
       "      <td>&lt;NA&gt;</td>\n",
       "      <td>&lt;NA&gt;</td>\n",
       "      <td>&lt;NA&gt;</td>\n",
       "      <td>&lt;NA&gt;</td>\n",
       "      <td>&lt;NA&gt;</td>\n",
       "    </tr>\n",
       "    <tr>\n",
       "      <th>5936</th>\n",
       "      <td>166932</td>\n",
       "      <td>&lt;NA&gt;</td>\n",
       "      <td>&lt;NA&gt;</td>\n",
       "      <td>&lt;NA&gt;</td>\n",
       "      <td>&lt;NA&gt;</td>\n",
       "      <td>&lt;NA&gt;</td>\n",
       "      <td>&lt;NA&gt;</td>\n",
       "      <td>&lt;NA&gt;</td>\n",
       "      <td>&lt;NA&gt;</td>\n",
       "      <td>&lt;NA&gt;</td>\n",
       "      <td>&lt;NA&gt;</td>\n",
       "      <td>&lt;NA&gt;</td>\n",
       "    </tr>\n",
       "    <tr>\n",
       "      <th>5937</th>\n",
       "      <td>166933</td>\n",
       "      <td>&lt;NA&gt;</td>\n",
       "      <td>&lt;NA&gt;</td>\n",
       "      <td>&lt;NA&gt;</td>\n",
       "      <td>&lt;NA&gt;</td>\n",
       "      <td>&lt;NA&gt;</td>\n",
       "      <td>&lt;NA&gt;</td>\n",
       "      <td>&lt;NA&gt;</td>\n",
       "      <td>&lt;NA&gt;</td>\n",
       "      <td>&lt;NA&gt;</td>\n",
       "      <td>&lt;NA&gt;</td>\n",
       "      <td>&lt;NA&gt;</td>\n",
       "    </tr>\n",
       "    <tr>\n",
       "      <th>5938</th>\n",
       "      <td>166934</td>\n",
       "      <td>&lt;NA&gt;</td>\n",
       "      <td>&lt;NA&gt;</td>\n",
       "      <td>&lt;NA&gt;</td>\n",
       "      <td>&lt;NA&gt;</td>\n",
       "      <td>&lt;NA&gt;</td>\n",
       "      <td>&lt;NA&gt;</td>\n",
       "      <td>&lt;NA&gt;</td>\n",
       "      <td>&lt;NA&gt;</td>\n",
       "      <td>&lt;NA&gt;</td>\n",
       "      <td>&lt;NA&gt;</td>\n",
       "      <td>&lt;NA&gt;</td>\n",
       "    </tr>\n",
       "    <tr>\n",
       "      <th>5939</th>\n",
       "      <td>166936</td>\n",
       "      <td>&lt;NA&gt;</td>\n",
       "      <td>&lt;NA&gt;</td>\n",
       "      <td>&lt;NA&gt;</td>\n",
       "      <td>&lt;NA&gt;</td>\n",
       "      <td>&lt;NA&gt;</td>\n",
       "      <td>&lt;NA&gt;</td>\n",
       "      <td>&lt;NA&gt;</td>\n",
       "      <td>&lt;NA&gt;</td>\n",
       "      <td>&lt;NA&gt;</td>\n",
       "      <td>&lt;NA&gt;</td>\n",
       "      <td>&lt;NA&gt;</td>\n",
       "    </tr>\n",
       "  </tbody>\n",
       "</table>\n",
       "<p>5940 rows × 12 columns</p>\n",
       "</div>\n",
       "      <button class=\"colab-df-convert\" onclick=\"convertToInteractive('df-3c49fdca-864f-43a6-a8c8-facea1603eb5')\"\n",
       "              title=\"Convert this dataframe to an interactive table.\"\n",
       "              style=\"display:none;\">\n",
       "        \n",
       "  <svg xmlns=\"http://www.w3.org/2000/svg\" height=\"24px\"viewBox=\"0 0 24 24\"\n",
       "       width=\"24px\">\n",
       "    <path d=\"M0 0h24v24H0V0z\" fill=\"none\"/>\n",
       "    <path d=\"M18.56 5.44l.94 2.06.94-2.06 2.06-.94-2.06-.94-.94-2.06-.94 2.06-2.06.94zm-11 1L8.5 8.5l.94-2.06 2.06-.94-2.06-.94L8.5 2.5l-.94 2.06-2.06.94zm10 10l.94 2.06.94-2.06 2.06-.94-2.06-.94-.94-2.06-.94 2.06-2.06.94z\"/><path d=\"M17.41 7.96l-1.37-1.37c-.4-.4-.92-.59-1.43-.59-.52 0-1.04.2-1.43.59L10.3 9.45l-7.72 7.72c-.78.78-.78 2.05 0 2.83L4 21.41c.39.39.9.59 1.41.59.51 0 1.02-.2 1.41-.59l7.78-7.78 2.81-2.81c.8-.78.8-2.07 0-2.86zM5.41 20L4 18.59l7.72-7.72 1.47 1.35L5.41 20z\"/>\n",
       "  </svg>\n",
       "      </button>\n",
       "      \n",
       "  <style>\n",
       "    .colab-df-container {\n",
       "      display:flex;\n",
       "      flex-wrap:wrap;\n",
       "      gap: 12px;\n",
       "    }\n",
       "\n",
       "    .colab-df-convert {\n",
       "      background-color: #E8F0FE;\n",
       "      border: none;\n",
       "      border-radius: 50%;\n",
       "      cursor: pointer;\n",
       "      display: none;\n",
       "      fill: #1967D2;\n",
       "      height: 32px;\n",
       "      padding: 0 0 0 0;\n",
       "      width: 32px;\n",
       "    }\n",
       "\n",
       "    .colab-df-convert:hover {\n",
       "      background-color: #E2EBFA;\n",
       "      box-shadow: 0px 1px 2px rgba(60, 64, 67, 0.3), 0px 1px 3px 1px rgba(60, 64, 67, 0.15);\n",
       "      fill: #174EA6;\n",
       "    }\n",
       "\n",
       "    [theme=dark] .colab-df-convert {\n",
       "      background-color: #3B4455;\n",
       "      fill: #D2E3FC;\n",
       "    }\n",
       "\n",
       "    [theme=dark] .colab-df-convert:hover {\n",
       "      background-color: #434B5C;\n",
       "      box-shadow: 0px 1px 3px 1px rgba(0, 0, 0, 0.15);\n",
       "      filter: drop-shadow(0px 1px 2px rgba(0, 0, 0, 0.3));\n",
       "      fill: #FFFFFF;\n",
       "    }\n",
       "  </style>\n",
       "\n",
       "      <script>\n",
       "        const buttonEl =\n",
       "          document.querySelector('#df-3c49fdca-864f-43a6-a8c8-facea1603eb5 button.colab-df-convert');\n",
       "        buttonEl.style.display =\n",
       "          google.colab.kernel.accessAllowed ? 'block' : 'none';\n",
       "\n",
       "        async function convertToInteractive(key) {\n",
       "          const element = document.querySelector('#df-3c49fdca-864f-43a6-a8c8-facea1603eb5');\n",
       "          const dataTable =\n",
       "            await google.colab.kernel.invokeFunction('convertToInteractive',\n",
       "                                                     [key], {});\n",
       "          if (!dataTable) return;\n",
       "\n",
       "          const docLinkHtml = 'Like what you see? Visit the ' +\n",
       "            '<a target=\"_blank\" href=https://colab.research.google.com/notebooks/data_table.ipynb>data table notebook</a>'\n",
       "            + ' to learn more about interactive tables.';\n",
       "          element.innerHTML = '';\n",
       "          dataTable['output_type'] = 'display_data';\n",
       "          await google.colab.output.renderOutput(dataTable, element);\n",
       "          const docLink = document.createElement('div');\n",
       "          docLink.innerHTML = docLinkHtml;\n",
       "          element.appendChild(docLink);\n",
       "        }\n",
       "      </script>\n",
       "    </div>\n",
       "  </div>\n",
       "  "
      ],
      "text/plain": [
       "      class_id  predictions_0.01  predictions_0.5  predictions_0.55  \\\n",
       "0       120028              <NA>             <NA>              <NA>   \n",
       "1       120029              <NA>             <NA>              <NA>   \n",
       "2       120030              <NA>             <NA>              <NA>   \n",
       "3       120031              <NA>             <NA>              <NA>   \n",
       "4       120032              <NA>             <NA>              <NA>   \n",
       "...        ...               ...              ...               ...   \n",
       "5935    166926              <NA>             <NA>              <NA>   \n",
       "5936    166932              <NA>             <NA>              <NA>   \n",
       "5937    166933              <NA>             <NA>              <NA>   \n",
       "5938    166934              <NA>             <NA>              <NA>   \n",
       "5939    166936              <NA>             <NA>              <NA>   \n",
       "\n",
       "      predictions_0.6  predictions_0.65  predictions_0.7  predictions_0.75  \\\n",
       "0                <NA>              <NA>             <NA>              <NA>   \n",
       "1                <NA>              <NA>             <NA>              <NA>   \n",
       "2                <NA>              <NA>             <NA>              <NA>   \n",
       "3                <NA>              <NA>             <NA>              <NA>   \n",
       "4                <NA>              <NA>             <NA>              <NA>   \n",
       "...               ...               ...              ...               ...   \n",
       "5935             <NA>              <NA>             <NA>              <NA>   \n",
       "5936             <NA>              <NA>             <NA>              <NA>   \n",
       "5937             <NA>              <NA>             <NA>              <NA>   \n",
       "5938             <NA>              <NA>             <NA>              <NA>   \n",
       "5939             <NA>              <NA>             <NA>              <NA>   \n",
       "\n",
       "      predictions_0.8  predictions_0.85  predictions_0.9  predictions_0.95  \n",
       "0                <NA>              <NA>             <NA>              <NA>  \n",
       "1                <NA>              <NA>             <NA>              <NA>  \n",
       "2                <NA>              <NA>             <NA>              <NA>  \n",
       "3                <NA>              <NA>             <NA>              <NA>  \n",
       "4                <NA>              <NA>             <NA>              <NA>  \n",
       "...               ...               ...              ...               ...  \n",
       "5935             <NA>              <NA>             <NA>              <NA>  \n",
       "5936             <NA>              <NA>             <NA>              <NA>  \n",
       "5937             <NA>              <NA>             <NA>              <NA>  \n",
       "5938             <NA>              <NA>             <NA>              <NA>  \n",
       "5939             <NA>              <NA>             <NA>              <NA>  \n",
       "\n",
       "[5940 rows x 12 columns]"
      ]
     },
     "execution_count": 12,
     "metadata": {},
     "output_type": "execute_result"
    }
   ],
   "source": [
    "dfg = df_main.groupby(\"class_id\")\n",
    "empty_unique_class_predictions[\"class_id\"] = list(map(int, list(dfg.groups.keys())))\n",
    "print(empty_unique_class_predictions.dtypes)\n",
    "empty_unique_class_predictions"
   ]
  },
  {
   "cell_type": "markdown",
   "id": "889v6mILiE67",
   "metadata": {
    "id": "889v6mILiE67"
   },
   "source": [
    "# TimeseriesPredictionOfClassLabel"
   ]
  },
  {
   "cell_type": "code",
   "execution_count": 13,
   "id": "OFmo0qi1hogn",
   "metadata": {
    "executionInfo": {
     "elapsed": 31,
     "status": "ok",
     "timestamp": 1669031612598,
     "user": {
      "displayName": "Ziba Ghane",
      "userId": "08687858434532704051"
     },
     "user_tz": -210
    },
    "id": "OFmo0qi1hogn"
   },
   "outputs": [],
   "source": [
    "tpcl = TimeseriesPredictionOfClassLabel(\n",
    "    df_main.copy(), \n",
    "    empty_unique_class_predictions,\n",
    "    knn_model_params, \n",
    "    knn_accuracy_threshold\n",
    ")"
   ]
  },
  {
   "cell_type": "code",
   "execution_count": 14,
   "id": "iBFcO3SHifw9",
   "metadata": {
    "colab": {
     "base_uri": "https://localhost:8080/",
     "height": 34
    },
    "executionInfo": {
     "elapsed": 67066,
     "status": "ok",
     "timestamp": 1669031679633,
     "user": {
      "displayName": "Ziba Ghane",
      "userId": "08687858434532704051"
     },
     "user_tz": -210
    },
    "id": "iBFcO3SHifw9",
    "outputId": "4548508f-b4de-4731-d674-6e74efe2e031"
   },
   "outputs": [
    {
     "data": {
      "text/html": [
       "<style>\n",
       ".enlighten-fg-blue {\n",
       "  color: #0000ee;\n",
       "}\n",
       "</style>\n",
       "<div class=\"enlighten\">\n",
       "  <div class=\"enlighten-bar\">\n",
       "    <pre>time-series-prediction 100%|<span class=\"enlighten-fg-blue\">███████████████████████████████</span>| 5940/5940 [01:07&lt;00:00, 88.47 sample/s]</pre>\n",
       "  </div>\n",
       "</div>\n"
      ],
      "text/plain": [
       "<IPython.core.display.HTML object>"
      ]
     },
     "metadata": {},
     "output_type": "display_data"
    }
   ],
   "source": [
    "tpcl.make_progress_lines()\n",
    "tpcl.make_predictions()"
   ]
  },
  {
   "cell_type": "code",
   "execution_count": 15,
   "id": "LmtZlY9IzhNJ",
   "metadata": {
    "executionInfo": {
     "elapsed": 39,
     "status": "ok",
     "timestamp": 1669031679636,
     "user": {
      "displayName": "Ziba Ghane",
      "userId": "08687858434532704051"
     },
     "user_tz": -210
    },
    "id": "LmtZlY9IzhNJ"
   },
   "outputs": [],
   "source": [
    "unique_class_predictions = tpcl.unique_class_predictions"
   ]
  },
  {
   "cell_type": "code",
   "execution_count": 16,
   "id": "XsOL8VWP0826",
   "metadata": {
    "colab": {
     "base_uri": "https://localhost:8080/"
    },
    "executionInfo": {
     "elapsed": 38,
     "status": "ok",
     "timestamp": 1669031679638,
     "user": {
      "displayName": "Ziba Ghane",
      "userId": "08687858434532704051"
     },
     "user_tz": -210
    },
    "id": "XsOL8VWP0826",
    "outputId": "189f77d9-6990-4207-abf7-a402f3c51039"
   },
   "outputs": [
    {
     "data": {
      "text/plain": [
       "class_id            int64\n",
       "predictions_0.01    Int32\n",
       "predictions_0.5     Int32\n",
       "predictions_0.55    Int32\n",
       "predictions_0.6     Int32\n",
       "predictions_0.65    Int32\n",
       "predictions_0.7     Int32\n",
       "predictions_0.75    Int32\n",
       "predictions_0.8     Int32\n",
       "predictions_0.85    Int32\n",
       "predictions_0.9     Int32\n",
       "predictions_0.95    Int32\n",
       "dtype: object"
      ]
     },
     "execution_count": 16,
     "metadata": {},
     "output_type": "execute_result"
    }
   ],
   "source": [
    "unique_class_predictions.dtypes"
   ]
  },
  {
   "cell_type": "code",
   "execution_count": 17,
   "id": "RCCXSkrZ80UZ",
   "metadata": {
    "colab": {
     "base_uri": "https://localhost:8080/",
     "height": 488
    },
    "executionInfo": {
     "elapsed": 35,
     "status": "ok",
     "timestamp": 1669031679639,
     "user": {
      "displayName": "Ziba Ghane",
      "userId": "08687858434532704051"
     },
     "user_tz": -210
    },
    "id": "RCCXSkrZ80UZ",
    "outputId": "311642fb-2304-47eb-dbc9-a21580fcfb77"
   },
   "outputs": [
    {
     "data": {
      "text/html": [
       "\n",
       "  <div id=\"df-0cad5bb6-da0f-440a-9a75-ed47b0dcf8c5\">\n",
       "    <div class=\"colab-df-container\">\n",
       "      <div>\n",
       "<style scoped>\n",
       "    .dataframe tbody tr th:only-of-type {\n",
       "        vertical-align: middle;\n",
       "    }\n",
       "\n",
       "    .dataframe tbody tr th {\n",
       "        vertical-align: top;\n",
       "    }\n",
       "\n",
       "    .dataframe thead th {\n",
       "        text-align: right;\n",
       "    }\n",
       "</style>\n",
       "<table border=\"1\" class=\"dataframe\">\n",
       "  <thead>\n",
       "    <tr style=\"text-align: right;\">\n",
       "      <th></th>\n",
       "      <th>class_id</th>\n",
       "      <th>predictions_0.01</th>\n",
       "      <th>predictions_0.5</th>\n",
       "      <th>predictions_0.55</th>\n",
       "      <th>predictions_0.6</th>\n",
       "      <th>predictions_0.65</th>\n",
       "      <th>predictions_0.7</th>\n",
       "      <th>predictions_0.75</th>\n",
       "      <th>predictions_0.8</th>\n",
       "      <th>predictions_0.85</th>\n",
       "      <th>predictions_0.9</th>\n",
       "      <th>predictions_0.95</th>\n",
       "    </tr>\n",
       "  </thead>\n",
       "  <tbody>\n",
       "    <tr>\n",
       "      <th>0</th>\n",
       "      <td>120028</td>\n",
       "      <td>&lt;NA&gt;</td>\n",
       "      <td>&lt;NA&gt;</td>\n",
       "      <td>&lt;NA&gt;</td>\n",
       "      <td>&lt;NA&gt;</td>\n",
       "      <td>&lt;NA&gt;</td>\n",
       "      <td>&lt;NA&gt;</td>\n",
       "      <td>&lt;NA&gt;</td>\n",
       "      <td>&lt;NA&gt;</td>\n",
       "      <td>&lt;NA&gt;</td>\n",
       "      <td>&lt;NA&gt;</td>\n",
       "      <td>&lt;NA&gt;</td>\n",
       "    </tr>\n",
       "    <tr>\n",
       "      <th>1</th>\n",
       "      <td>120029</td>\n",
       "      <td>0</td>\n",
       "      <td>0</td>\n",
       "      <td>0</td>\n",
       "      <td>0</td>\n",
       "      <td>0</td>\n",
       "      <td>0</td>\n",
       "      <td>0</td>\n",
       "      <td>0</td>\n",
       "      <td>0</td>\n",
       "      <td>0</td>\n",
       "      <td>0</td>\n",
       "    </tr>\n",
       "    <tr>\n",
       "      <th>2</th>\n",
       "      <td>120030</td>\n",
       "      <td>0</td>\n",
       "      <td>&lt;NA&gt;</td>\n",
       "      <td>&lt;NA&gt;</td>\n",
       "      <td>&lt;NA&gt;</td>\n",
       "      <td>&lt;NA&gt;</td>\n",
       "      <td>&lt;NA&gt;</td>\n",
       "      <td>&lt;NA&gt;</td>\n",
       "      <td>&lt;NA&gt;</td>\n",
       "      <td>&lt;NA&gt;</td>\n",
       "      <td>&lt;NA&gt;</td>\n",
       "      <td>&lt;NA&gt;</td>\n",
       "    </tr>\n",
       "    <tr>\n",
       "      <th>3</th>\n",
       "      <td>120031</td>\n",
       "      <td>&lt;NA&gt;</td>\n",
       "      <td>&lt;NA&gt;</td>\n",
       "      <td>&lt;NA&gt;</td>\n",
       "      <td>&lt;NA&gt;</td>\n",
       "      <td>&lt;NA&gt;</td>\n",
       "      <td>&lt;NA&gt;</td>\n",
       "      <td>&lt;NA&gt;</td>\n",
       "      <td>&lt;NA&gt;</td>\n",
       "      <td>&lt;NA&gt;</td>\n",
       "      <td>&lt;NA&gt;</td>\n",
       "      <td>&lt;NA&gt;</td>\n",
       "    </tr>\n",
       "    <tr>\n",
       "      <th>4</th>\n",
       "      <td>120032</td>\n",
       "      <td>&lt;NA&gt;</td>\n",
       "      <td>&lt;NA&gt;</td>\n",
       "      <td>&lt;NA&gt;</td>\n",
       "      <td>&lt;NA&gt;</td>\n",
       "      <td>&lt;NA&gt;</td>\n",
       "      <td>&lt;NA&gt;</td>\n",
       "      <td>&lt;NA&gt;</td>\n",
       "      <td>&lt;NA&gt;</td>\n",
       "      <td>&lt;NA&gt;</td>\n",
       "      <td>&lt;NA&gt;</td>\n",
       "      <td>&lt;NA&gt;</td>\n",
       "    </tr>\n",
       "    <tr>\n",
       "      <th>...</th>\n",
       "      <td>...</td>\n",
       "      <td>...</td>\n",
       "      <td>...</td>\n",
       "      <td>...</td>\n",
       "      <td>...</td>\n",
       "      <td>...</td>\n",
       "      <td>...</td>\n",
       "      <td>...</td>\n",
       "      <td>...</td>\n",
       "      <td>...</td>\n",
       "      <td>...</td>\n",
       "      <td>...</td>\n",
       "    </tr>\n",
       "    <tr>\n",
       "      <th>95</th>\n",
       "      <td>120125</td>\n",
       "      <td>&lt;NA&gt;</td>\n",
       "      <td>&lt;NA&gt;</td>\n",
       "      <td>&lt;NA&gt;</td>\n",
       "      <td>&lt;NA&gt;</td>\n",
       "      <td>&lt;NA&gt;</td>\n",
       "      <td>&lt;NA&gt;</td>\n",
       "      <td>&lt;NA&gt;</td>\n",
       "      <td>&lt;NA&gt;</td>\n",
       "      <td>&lt;NA&gt;</td>\n",
       "      <td>&lt;NA&gt;</td>\n",
       "      <td>&lt;NA&gt;</td>\n",
       "    </tr>\n",
       "    <tr>\n",
       "      <th>96</th>\n",
       "      <td>120126</td>\n",
       "      <td>0</td>\n",
       "      <td>0</td>\n",
       "      <td>0</td>\n",
       "      <td>&lt;NA&gt;</td>\n",
       "      <td>&lt;NA&gt;</td>\n",
       "      <td>&lt;NA&gt;</td>\n",
       "      <td>&lt;NA&gt;</td>\n",
       "      <td>&lt;NA&gt;</td>\n",
       "      <td>&lt;NA&gt;</td>\n",
       "      <td>&lt;NA&gt;</td>\n",
       "      <td>&lt;NA&gt;</td>\n",
       "    </tr>\n",
       "    <tr>\n",
       "      <th>97</th>\n",
       "      <td>120127</td>\n",
       "      <td>0</td>\n",
       "      <td>0</td>\n",
       "      <td>&lt;NA&gt;</td>\n",
       "      <td>&lt;NA&gt;</td>\n",
       "      <td>&lt;NA&gt;</td>\n",
       "      <td>&lt;NA&gt;</td>\n",
       "      <td>&lt;NA&gt;</td>\n",
       "      <td>&lt;NA&gt;</td>\n",
       "      <td>&lt;NA&gt;</td>\n",
       "      <td>&lt;NA&gt;</td>\n",
       "      <td>&lt;NA&gt;</td>\n",
       "    </tr>\n",
       "    <tr>\n",
       "      <th>98</th>\n",
       "      <td>120128</td>\n",
       "      <td>0</td>\n",
       "      <td>0</td>\n",
       "      <td>0</td>\n",
       "      <td>0</td>\n",
       "      <td>0</td>\n",
       "      <td>0</td>\n",
       "      <td>0</td>\n",
       "      <td>0</td>\n",
       "      <td>&lt;NA&gt;</td>\n",
       "      <td>&lt;NA&gt;</td>\n",
       "      <td>&lt;NA&gt;</td>\n",
       "    </tr>\n",
       "    <tr>\n",
       "      <th>99</th>\n",
       "      <td>120129</td>\n",
       "      <td>0</td>\n",
       "      <td>0</td>\n",
       "      <td>0</td>\n",
       "      <td>0</td>\n",
       "      <td>0</td>\n",
       "      <td>&lt;NA&gt;</td>\n",
       "      <td>&lt;NA&gt;</td>\n",
       "      <td>&lt;NA&gt;</td>\n",
       "      <td>&lt;NA&gt;</td>\n",
       "      <td>&lt;NA&gt;</td>\n",
       "      <td>&lt;NA&gt;</td>\n",
       "    </tr>\n",
       "  </tbody>\n",
       "</table>\n",
       "<p>100 rows × 12 columns</p>\n",
       "</div>\n",
       "      <button class=\"colab-df-convert\" onclick=\"convertToInteractive('df-0cad5bb6-da0f-440a-9a75-ed47b0dcf8c5')\"\n",
       "              title=\"Convert this dataframe to an interactive table.\"\n",
       "              style=\"display:none;\">\n",
       "        \n",
       "  <svg xmlns=\"http://www.w3.org/2000/svg\" height=\"24px\"viewBox=\"0 0 24 24\"\n",
       "       width=\"24px\">\n",
       "    <path d=\"M0 0h24v24H0V0z\" fill=\"none\"/>\n",
       "    <path d=\"M18.56 5.44l.94 2.06.94-2.06 2.06-.94-2.06-.94-.94-2.06-.94 2.06-2.06.94zm-11 1L8.5 8.5l.94-2.06 2.06-.94-2.06-.94L8.5 2.5l-.94 2.06-2.06.94zm10 10l.94 2.06.94-2.06 2.06-.94-2.06-.94-.94-2.06-.94 2.06-2.06.94z\"/><path d=\"M17.41 7.96l-1.37-1.37c-.4-.4-.92-.59-1.43-.59-.52 0-1.04.2-1.43.59L10.3 9.45l-7.72 7.72c-.78.78-.78 2.05 0 2.83L4 21.41c.39.39.9.59 1.41.59.51 0 1.02-.2 1.41-.59l7.78-7.78 2.81-2.81c.8-.78.8-2.07 0-2.86zM5.41 20L4 18.59l7.72-7.72 1.47 1.35L5.41 20z\"/>\n",
       "  </svg>\n",
       "      </button>\n",
       "      \n",
       "  <style>\n",
       "    .colab-df-container {\n",
       "      display:flex;\n",
       "      flex-wrap:wrap;\n",
       "      gap: 12px;\n",
       "    }\n",
       "\n",
       "    .colab-df-convert {\n",
       "      background-color: #E8F0FE;\n",
       "      border: none;\n",
       "      border-radius: 50%;\n",
       "      cursor: pointer;\n",
       "      display: none;\n",
       "      fill: #1967D2;\n",
       "      height: 32px;\n",
       "      padding: 0 0 0 0;\n",
       "      width: 32px;\n",
       "    }\n",
       "\n",
       "    .colab-df-convert:hover {\n",
       "      background-color: #E2EBFA;\n",
       "      box-shadow: 0px 1px 2px rgba(60, 64, 67, 0.3), 0px 1px 3px 1px rgba(60, 64, 67, 0.15);\n",
       "      fill: #174EA6;\n",
       "    }\n",
       "\n",
       "    [theme=dark] .colab-df-convert {\n",
       "      background-color: #3B4455;\n",
       "      fill: #D2E3FC;\n",
       "    }\n",
       "\n",
       "    [theme=dark] .colab-df-convert:hover {\n",
       "      background-color: #434B5C;\n",
       "      box-shadow: 0px 1px 3px 1px rgba(0, 0, 0, 0.15);\n",
       "      filter: drop-shadow(0px 1px 2px rgba(0, 0, 0, 0.3));\n",
       "      fill: #FFFFFF;\n",
       "    }\n",
       "  </style>\n",
       "\n",
       "      <script>\n",
       "        const buttonEl =\n",
       "          document.querySelector('#df-0cad5bb6-da0f-440a-9a75-ed47b0dcf8c5 button.colab-df-convert');\n",
       "        buttonEl.style.display =\n",
       "          google.colab.kernel.accessAllowed ? 'block' : 'none';\n",
       "\n",
       "        async function convertToInteractive(key) {\n",
       "          const element = document.querySelector('#df-0cad5bb6-da0f-440a-9a75-ed47b0dcf8c5');\n",
       "          const dataTable =\n",
       "            await google.colab.kernel.invokeFunction('convertToInteractive',\n",
       "                                                     [key], {});\n",
       "          if (!dataTable) return;\n",
       "\n",
       "          const docLinkHtml = 'Like what you see? Visit the ' +\n",
       "            '<a target=\"_blank\" href=https://colab.research.google.com/notebooks/data_table.ipynb>data table notebook</a>'\n",
       "            + ' to learn more about interactive tables.';\n",
       "          element.innerHTML = '';\n",
       "          dataTable['output_type'] = 'display_data';\n",
       "          await google.colab.output.renderOutput(dataTable, element);\n",
       "          const docLink = document.createElement('div');\n",
       "          docLink.innerHTML = docLinkHtml;\n",
       "          element.appendChild(docLink);\n",
       "        }\n",
       "      </script>\n",
       "    </div>\n",
       "  </div>\n",
       "  "
      ],
      "text/plain": [
       "    class_id  predictions_0.01  predictions_0.5  predictions_0.55  \\\n",
       "0     120028              <NA>             <NA>              <NA>   \n",
       "1     120029                 0                0                 0   \n",
       "2     120030                 0             <NA>              <NA>   \n",
       "3     120031              <NA>             <NA>              <NA>   \n",
       "4     120032              <NA>             <NA>              <NA>   \n",
       "..       ...               ...              ...               ...   \n",
       "95    120125              <NA>             <NA>              <NA>   \n",
       "96    120126                 0                0                 0   \n",
       "97    120127                 0                0              <NA>   \n",
       "98    120128                 0                0                 0   \n",
       "99    120129                 0                0                 0   \n",
       "\n",
       "    predictions_0.6  predictions_0.65  predictions_0.7  predictions_0.75  \\\n",
       "0              <NA>              <NA>             <NA>              <NA>   \n",
       "1                 0                 0                0                 0   \n",
       "2              <NA>              <NA>             <NA>              <NA>   \n",
       "3              <NA>              <NA>             <NA>              <NA>   \n",
       "4              <NA>              <NA>             <NA>              <NA>   \n",
       "..              ...               ...              ...               ...   \n",
       "95             <NA>              <NA>             <NA>              <NA>   \n",
       "96             <NA>              <NA>             <NA>              <NA>   \n",
       "97             <NA>              <NA>             <NA>              <NA>   \n",
       "98                0                 0                0                 0   \n",
       "99                0                 0             <NA>              <NA>   \n",
       "\n",
       "    predictions_0.8  predictions_0.85  predictions_0.9  predictions_0.95  \n",
       "0              <NA>              <NA>             <NA>              <NA>  \n",
       "1                 0                 0                0                 0  \n",
       "2              <NA>              <NA>             <NA>              <NA>  \n",
       "3              <NA>              <NA>             <NA>              <NA>  \n",
       "4              <NA>              <NA>             <NA>              <NA>  \n",
       "..              ...               ...              ...               ...  \n",
       "95             <NA>              <NA>             <NA>              <NA>  \n",
       "96             <NA>              <NA>             <NA>              <NA>  \n",
       "97             <NA>              <NA>             <NA>              <NA>  \n",
       "98                0              <NA>             <NA>              <NA>  \n",
       "99             <NA>              <NA>             <NA>              <NA>  \n",
       "\n",
       "[100 rows x 12 columns]"
      ]
     },
     "execution_count": 17,
     "metadata": {},
     "output_type": "execute_result"
    }
   ],
   "source": [
    "unique_class_predictions.head(100)"
   ]
  },
  {
   "cell_type": "markdown",
   "id": "Xkd00PSK6AZj",
   "metadata": {
    "id": "Xkd00PSK6AZj"
   },
   "source": [
    "# calc_percentage_predictable_classes"
   ]
  },
  {
   "cell_type": "code",
   "execution_count": 18,
   "id": "Pn1zYwoQqSDj",
   "metadata": {
    "colab": {
     "base_uri": "https://localhost:8080/"
    },
    "executionInfo": {
     "elapsed": 34,
     "status": "ok",
     "timestamp": 1669031679641,
     "user": {
      "displayName": "Ziba Ghane",
      "userId": "08687858434532704051"
     },
     "user_tz": -210
    },
    "id": "Pn1zYwoQqSDj",
    "outputId": "22ad6e59-4ab4-49e6-dd11-f4eaa09c2bc9"
   },
   "outputs": [
    {
     "name": "stdout",
     "output_type": "stream",
     "text": [
      "number of classes                            : 5,940\n",
      "percentage of pridictable classes in eahc th : [41, 34, 34, 32, 30, 27, 24, 22, 20, 17, 14]\n"
     ]
    }
   ],
   "source": [
    "print(\"number of classes                            :\", f\"{len(unique_class_predictions):,d}\")\n",
    "percentage_predictable_classes = calc_percentage_predictable_classes()\n",
    "print(\"percentage of pridictable classes in eahc th :\", percentage_predictable_classes)"
   ]
  },
  {
   "cell_type": "markdown",
   "id": "plHlu9Od4d5t",
   "metadata": {
    "id": "plHlu9Od4d5t"
   },
   "source": [
    "# plot_percentage_predictable_classes"
   ]
  },
  {
   "cell_type": "code",
   "execution_count": 19,
   "id": "0SdqpaA-7nRK",
   "metadata": {
    "colab": {
     "base_uri": "https://localhost:8080/",
     "height": 0
    },
    "executionInfo": {
     "elapsed": 914,
     "status": "ok",
     "timestamp": 1669031680525,
     "user": {
      "displayName": "Ziba Ghane",
      "userId": "08687858434532704051"
     },
     "user_tz": -210
    },
    "id": "0SdqpaA-7nRK",
    "outputId": "79cbc5e3-cd07-40d8-9821-605301ea4d90"
   },
   "outputs": [
    {
     "data": {
      "image/png": "[encoded data removed]",
      "text/plain": [
       "<Figure size 720x288 with 1 Axes>"
      ]
     },
     "metadata": {
      "needs_background": "light"
     },
     "output_type": "display_data"
    }
   ],
   "source": [
    "plot_percentage_predictable_classes(percentage_predictable_classes)"
   ]
  },
  {
   "cell_type": "markdown",
   "id": "tgsNT6SFil53",
   "metadata": {
    "id": "tgsNT6SFil53"
   },
   "source": [
    "# Save: unique_class_predictions"
   ]
  },
  {
   "cell_type": "code",
   "execution_count": 20,
   "id": "jkle0bfiilNJ",
   "metadata": {
    "executionInfo": {
     "elapsed": 10,
     "status": "ok",
     "timestamp": 1669031680526,
     "user": {
      "displayName": "Ziba Ghane",
      "userId": "08687858434532704051"
     },
     "user_tz": -210
    },
    "id": "jkle0bfiilNJ"
   },
   "outputs": [],
   "source": [
    "unique_class_predictions.to_csv(mypaths[\"output\"][\"unique_class_predictions\"], \n",
    "                                index=False, na_rep=\"NULL\")"
   ]
  },
  {
   "cell_type": "code",
   "execution_count": 20,
   "id": "SnMcKJUOjBlI",
   "metadata": {
    "executionInfo": {
     "elapsed": 13,
     "status": "ok",
     "timestamp": 1669031680529,
     "user": {
      "displayName": "Ziba Ghane",
      "userId": "08687858434532704051"
     },
     "user_tz": -210
    },
    "id": "SnMcKJUOjBlI"
   },
   "outputs": [],
   "source": []
  }
 ],
 "metadata": {
  "colab": {
   "provenance": [],
   "toc_visible": true
  },
  "gpuClass": "standard",
  "kernelspec": {
   "display_name": "paper-pytorch-cpu_jn",
   "language": "python",
   "name": "paper-pytorch-cpu_jn"
  },
  "language_info": {
   "codemirror_mode": {
    "name": "ipython",
    "version": 3
   },
   "file_extension": ".py",
   "mimetype": "text/x-python",
   "name": "python",
   "nbconvert_exporter": "python",
   "pygments_lexer": "ipython3",
   "version": "3.7.11"
  },
  "toc": {
   "base_numbering": 1,
   "nav_menu": {},
   "number_sections": false,
   "sideBar": true,
   "skip_h1_title": false,
   "title_cell": "Table of Contents",
   "title_sidebar": "Contents",
   "toc_cell": false,
   "toc_position": {},
   "toc_section_display": true,
   "toc_window_display": true
  }
 },
 "nbformat": 4,
 "nbformat_minor": 5
}
